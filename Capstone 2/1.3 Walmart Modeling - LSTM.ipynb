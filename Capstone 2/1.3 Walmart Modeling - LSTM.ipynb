{
  "nbformat": 4,
  "nbformat_minor": 0,
  "metadata": {
    "colab": {
      "name": "1.3 Walmart Modeling LSTM",
      "provenance": [],
      "toc_visible": true,
      "mount_file_id": "1Sspcyi6SHlz1c9fx9dJLhvliVFXabiVm",
      "authorship_tag": "ABX9TyPawBkfMFfqGJos5s5XaAZa",
      "include_colab_link": true
    },
    "kernelspec": {
      "name": "python3",
      "display_name": "Python 3"
    }
  },
  "cells": [
    {
      "cell_type": "markdown",
      "metadata": {
        "id": "view-in-github",
        "colab_type": "text"
      },
      "source": [
        "<a href=\"https://colab.research.google.com/github/danielad-k/SPRB/blob/master/Capstone%202/1%2C3%20Walmart%20Modeling%20-%20LSTM.ipynb\" target=\"_parent\"><img src=\"https://colab.research.google.com/assets/colab-badge.svg\" alt=\"Open In Colab\"/></a>"
      ]
    },
    {
      "cell_type": "markdown",
      "metadata": {
        "id": "WWYL_GX8wkRw",
        "colab_type": "text"
      },
      "source": [
        "**SUMMARY OF FINDINGS**\n",
        "\n",
        "1. A single layer LSTM model  produced an accuracy of 22%; therefore, we will keep the first model\n",
        "2. In terms of preprocessing the following steps were taken:\n",
        "  *   Fineline and UPC , only keep top 50% of most common values\n",
        "  *   Convert all categorical variables into one hot encoding\n",
        "\n",
        "\n",
        "\n"
      ]
    },
    {
      "cell_type": "code",
      "metadata": {
        "id": "uiketazwktng",
        "colab_type": "code",
        "colab": {}
      },
      "source": [
        "import pandas as pd\n",
        "import tensorflow as ts\n",
        "import numpy as np\n",
        "import pickle\n",
        "from bokeh.plotting import figure\n",
        "from bokeh.io import show, output_notebook\n",
        "import seaborn as sns\n",
        "import matplotlib.pyplot as plt\n",
        "import keras\n",
        "from keras.models import Model,Sequential\n",
        "from keras.layers import Input, LSTM, Dense,Flatten,Dropout,TimeDistributed\n",
        "from keras import regularizers\n",
        "from imblearn.under_sampling import RandomUnderSampler\n",
        "from keras.callbacks import ReduceLROnPlateau, EarlyStopping\n",
        "from sklearn.model_selection import train_test_split"
      ],
      "execution_count": null,
      "outputs": []
    },
    {
      "cell_type": "markdown",
      "metadata": {
        "id": "GZ8RPUgLurXX",
        "colab_type": "text"
      },
      "source": [
        "## **Functions**"
      ]
    },
    {
      "cell_type": "code",
      "metadata": {
        "id": "QFxtiwuIuIYZ",
        "colab_type": "code",
        "colab": {}
      },
      "source": [
        "def convert_df(data,var,ncol):\n",
        "  #convert category\n",
        "  data[var] = data[var].astype('category')\n",
        "  #groupby\n",
        "  y= data[['VisitNumber','TripType']].dropna().groupby('VisitNumber')['TripType'].agg(max).reset_index()['TripType'].astype(str)\n",
        "\n",
        "  #add varible name, add cat codes but add plus 2 \n",
        "  data[var] = data[var].cat.codes.apply(lambda x: x + 2).astype(str)\n",
        "  #group by #visit number and aggregate such that each row contains all the categories they have visited for each visit\n",
        "  data_new = data[['VisitNumber',var]].dropna().groupby('VisitNumber')[var].apply('_'.join).reset_index()\n",
        "  #then split each category and fill na with zero and select n columns\n",
        "  data_d = data_new.iloc[:,1].str.split('_', expand=True).fillna(0).iloc[:,0:ncol]\n",
        "  #concat final data between y and new dataset\n",
        "  data_final = pd.concat([data_new.loc[:,'VisitNumber'],y,data_d],axis = 1)\n",
        "\n",
        "  return data_final\n",
        "\n"
      ],
      "execution_count": null,
      "outputs": []
    },
    {
      "cell_type": "code",
      "metadata": {
        "id": "eM0cNj-le0GB",
        "colab_type": "code",
        "colab": {}
      },
      "source": [
        "def create_dataset(dataset, look_back,ncol):\n",
        "    dataX,dataY = [],[]\n",
        "    df = dataset.reset_index().index\n",
        "    df2 = df[df % look_back == 0] \n",
        "    dataset = dataset.values\n",
        "    for i in df2:\n",
        "        a = dataset[i:(i + look_back), 2:ncol]\n",
        "        dataX.append(a)\n",
        "        dataY.append(dataset[i:(i + look_back), 1])\n",
        "    return np.array(dataX),np.array(dataY)"
      ],
      "execution_count": null,
      "outputs": []
    },
    {
      "cell_type": "code",
      "metadata": {
        "id": "dxiwcGIgoasz",
        "colab_type": "code",
        "colab": {
          "base_uri": "https://localhost:8080/",
          "height": 33
        },
        "outputId": "70e1a26d-5168-401f-ba17-23c67612d965"
      },
      "source": [
        "from google.colab import drive\n",
        "drive.mount('/content/drive')"
      ],
      "execution_count": null,
      "outputs": [
        {
          "output_type": "stream",
          "text": [
            "Drive already mounted at /content/drive; to attempt to forcibly remount, call drive.mount(\"/content/drive\", force_remount=True).\n"
          ],
          "name": "stdout"
        }
      ]
    },
    {
      "cell_type": "markdown",
      "metadata": {
        "id": "jjqiaw9YxbBX",
        "colab_type": "text"
      },
      "source": [
        "# **1. Data Preprocessing**"
      ]
    },
    {
      "cell_type": "code",
      "metadata": {
        "id": "oq2nUcE8lWyI",
        "colab_type": "code",
        "colab": {}
      },
      "source": [
        "#read data\n",
        "data = pd.read_csv(r'/content/drive/My Drive/Colab Notebooks/data_modeling (1).csv')"
      ],
      "execution_count": null,
      "outputs": []
    },
    {
      "cell_type": "code",
      "metadata": {
        "id": "NkCQzaLLokfH",
        "colab_type": "code",
        "colab": {
          "base_uri": "https://localhost:8080/",
          "height": 192
        },
        "outputId": "5eb0e9c0-057c-44c7-c683-beecacb4f5d9"
      },
      "source": [
        "data.head()"
      ],
      "execution_count": null,
      "outputs": [
        {
          "output_type": "execute_result",
          "data": {
            "text/html": [
              "<div>\n",
              "<style scoped>\n",
              "    .dataframe tbody tr th:only-of-type {\n",
              "        vertical-align: middle;\n",
              "    }\n",
              "\n",
              "    .dataframe tbody tr th {\n",
              "        vertical-align: top;\n",
              "    }\n",
              "\n",
              "    .dataframe thead th {\n",
              "        text-align: right;\n",
              "    }\n",
              "</style>\n",
              "<table border=\"1\" class=\"dataframe\">\n",
              "  <thead>\n",
              "    <tr style=\"text-align: right;\">\n",
              "      <th></th>\n",
              "      <th>Unnamed: 0</th>\n",
              "      <th>TripType</th>\n",
              "      <th>VisitNumber</th>\n",
              "      <th>Weekday</th>\n",
              "      <th>Upc</th>\n",
              "      <th>ScanCount</th>\n",
              "      <th>DepartmentDescription</th>\n",
              "      <th>FinelineNumber</th>\n",
              "      <th>PLU</th>\n",
              "      <th>COMMODITY</th>\n",
              "      <th>Return</th>\n",
              "      <th>Count_of_Item</th>\n",
              "      <th>Rename_Dep</th>\n",
              "      <th>count</th>\n",
              "    </tr>\n",
              "  </thead>\n",
              "  <tbody>\n",
              "    <tr>\n",
              "      <th>0</th>\n",
              "      <td>0</td>\n",
              "      <td>999</td>\n",
              "      <td>5</td>\n",
              "      <td>Friday</td>\n",
              "      <td>68113152929</td>\n",
              "      <td>-1</td>\n",
              "      <td>FINANCIAL SERVICES</td>\n",
              "      <td>1000</td>\n",
              "      <td>NaN</td>\n",
              "      <td>NaN</td>\n",
              "      <td>Returned</td>\n",
              "      <td>Single</td>\n",
              "      <td>Financial Services</td>\n",
              "      <td>1</td>\n",
              "    </tr>\n",
              "    <tr>\n",
              "      <th>1</th>\n",
              "      <td>1</td>\n",
              "      <td>30</td>\n",
              "      <td>7</td>\n",
              "      <td>Friday</td>\n",
              "      <td>60538815980</td>\n",
              "      <td>1</td>\n",
              "      <td>SHOES</td>\n",
              "      <td>8931</td>\n",
              "      <td>NaN</td>\n",
              "      <td>NaN</td>\n",
              "      <td>Bought</td>\n",
              "      <td>Single</td>\n",
              "      <td>Clothing,Shoes,and Accessories</td>\n",
              "      <td>1</td>\n",
              "    </tr>\n",
              "    <tr>\n",
              "      <th>2</th>\n",
              "      <td>2</td>\n",
              "      <td>30</td>\n",
              "      <td>7</td>\n",
              "      <td>Friday</td>\n",
              "      <td>7410811099</td>\n",
              "      <td>1</td>\n",
              "      <td>PERSONAL CARE</td>\n",
              "      <td>4504</td>\n",
              "      <td>NaN</td>\n",
              "      <td>NaN</td>\n",
              "      <td>Bought</td>\n",
              "      <td>Single</td>\n",
              "      <td>Pharmacy,Health,and Beauty</td>\n",
              "      <td>1</td>\n",
              "    </tr>\n",
              "    <tr>\n",
              "      <th>3</th>\n",
              "      <td>3</td>\n",
              "      <td>26</td>\n",
              "      <td>8</td>\n",
              "      <td>Friday</td>\n",
              "      <td>2238403510</td>\n",
              "      <td>2</td>\n",
              "      <td>PAINT AND ACCESSORIES</td>\n",
              "      <td>3565</td>\n",
              "      <td>NaN</td>\n",
              "      <td>NaN</td>\n",
              "      <td>Bought</td>\n",
              "      <td>Multiple</td>\n",
              "      <td>Home Improvement and Patio</td>\n",
              "      <td>1</td>\n",
              "    </tr>\n",
              "    <tr>\n",
              "      <th>4</th>\n",
              "      <td>4</td>\n",
              "      <td>26</td>\n",
              "      <td>8</td>\n",
              "      <td>Friday</td>\n",
              "      <td>2006613744</td>\n",
              "      <td>2</td>\n",
              "      <td>PAINT AND ACCESSORIES</td>\n",
              "      <td>1017</td>\n",
              "      <td>NaN</td>\n",
              "      <td>NaN</td>\n",
              "      <td>Bought</td>\n",
              "      <td>Multiple</td>\n",
              "      <td>Home Improvement and Patio</td>\n",
              "      <td>1</td>\n",
              "    </tr>\n",
              "  </tbody>\n",
              "</table>\n",
              "</div>"
            ],
            "text/plain": [
              "   Unnamed: 0  TripType  ...                      Rename_Dep count\n",
              "0           0       999  ...              Financial Services     1\n",
              "1           1        30  ...  Clothing,Shoes,and Accessories     1\n",
              "2           2        30  ...      Pharmacy,Health,and Beauty     1\n",
              "3           3        26  ...      Home Improvement and Patio     1\n",
              "4           4        26  ...      Home Improvement and Patio     1\n",
              "\n",
              "[5 rows x 14 columns]"
            ]
          },
          "metadata": {
            "tags": []
          },
          "execution_count": 46
        }
      ]
    },
    {
      "cell_type": "code",
      "metadata": {
        "id": "14v8qzqTmD2b",
        "colab_type": "code",
        "colab": {}
      },
      "source": [
        "#convert visit number as string\n",
        "data.VisitNumber = data.VisitNumber.astype(str)"
      ],
      "execution_count": null,
      "outputs": []
    },
    {
      "cell_type": "markdown",
      "metadata": {
        "id": "6269yQH5zjMx",
        "colab_type": "text"
      },
      "source": [
        "## 1.1 Convert dataframe to wide format"
      ]
    },
    {
      "cell_type": "markdown",
      "metadata": {
        "id": "WOFM8lwiyFVb",
        "colab_type": "text"
      },
      "source": [
        "Take dataframe for each column, aggregate by Visit Number and aggregate all the variable in Visit Number and then split across different columns. Thus, each row will be a \"visit\"."
      ]
    },
    {
      "cell_type": "code",
      "metadata": {
        "id": "7MGJEsOG00Ua",
        "colab_type": "code",
        "colab": {}
      },
      "source": [
        "nrow = 8\n",
        "ncol = 10"
      ],
      "execution_count": null,
      "outputs": []
    },
    {
      "cell_type": "markdown",
      "metadata": {
        "id": "Ypzcv_hms3M4",
        "colab_type": "text"
      },
      "source": [
        "**Department Dataset**"
      ]
    },
    {
      "cell_type": "code",
      "metadata": {
        "id": "duumQLWZuyO6",
        "colab_type": "code",
        "colab": {}
      },
      "source": [
        "data_dep = convert_df(data,\"DepartmentDescription\",ncol)"
      ],
      "execution_count": null,
      "outputs": []
    },
    {
      "cell_type": "markdown",
      "metadata": {
        "id": "7B9up60Is7Kh",
        "colab_type": "text"
      },
      "source": [
        "**Return Dataset**"
      ]
    },
    {
      "cell_type": "code",
      "metadata": {
        "id": "CQq9oX18vZYq",
        "colab_type": "code",
        "colab": {}
      },
      "source": [
        "data_return = convert_df(data,\"Return\", ncol)"
      ],
      "execution_count": null,
      "outputs": []
    },
    {
      "cell_type": "markdown",
      "metadata": {
        "id": "ncL4nTEKtDhy",
        "colab_type": "text"
      },
      "source": [
        "**Department Rename Dataset**"
      ]
    },
    {
      "cell_type": "code",
      "metadata": {
        "id": "Khnmb-h8vnKO",
        "colab_type": "code",
        "colab": {}
      },
      "source": [
        "data_rename = convert_df(data,\"Rename_Dep\",ncol)"
      ],
      "execution_count": null,
      "outputs": []
    },
    {
      "cell_type": "markdown",
      "metadata": {
        "id": "Y-Da-XfctLzc",
        "colab_type": "text"
      },
      "source": [
        "**Upc Dataset**"
      ]
    },
    {
      "cell_type": "code",
      "metadata": {
        "id": "PNAIHFiOxcZi",
        "colab_type": "code",
        "colab": {}
      },
      "source": [
        "data_upc = convert_df(data,\"Upc\",ncol)"
      ],
      "execution_count": null,
      "outputs": []
    },
    {
      "cell_type": "markdown",
      "metadata": {
        "id": "ndjLgb_-tRpp",
        "colab_type": "text"
      },
      "source": [
        "**Fineline Dataset**"
      ]
    },
    {
      "cell_type": "code",
      "metadata": {
        "id": "gn5thSmMxqgV",
        "colab_type": "code",
        "colab": {}
      },
      "source": [
        "data_fineline = convert_df(data,\"FinelineNumber\",ncol)"
      ],
      "execution_count": null,
      "outputs": []
    },
    {
      "cell_type": "markdown",
      "metadata": {
        "id": "OtZEwHnrtVXF",
        "colab_type": "text"
      },
      "source": [
        "**Count of Item Dataset**"
      ]
    },
    {
      "cell_type": "code",
      "metadata": {
        "id": "vCuQ9Qtcx0EG",
        "colab_type": "code",
        "colab": {}
      },
      "source": [
        "data_count = convert_df(data,\"Count_of_Item\",ncol)"
      ],
      "execution_count": null,
      "outputs": []
    },
    {
      "cell_type": "markdown",
      "metadata": {
        "id": "TMmcHJbTtbTD",
        "colab_type": "text"
      },
      "source": [
        "**Week Dataset**"
      ]
    },
    {
      "cell_type": "code",
      "metadata": {
        "id": "3f3F3aTYySjJ",
        "colab_type": "code",
        "colab": {}
      },
      "source": [
        "data_week = convert_df(data,\"Weekday\",ncol)"
      ],
      "execution_count": null,
      "outputs": []
    },
    {
      "cell_type": "markdown",
      "metadata": {
        "id": "rOZu4Fljtfbi",
        "colab_type": "text"
      },
      "source": [
        "**ScanCount Dataset**"
      ]
    },
    {
      "cell_type": "code",
      "metadata": {
        "id": "SQMRMvxDxRFP",
        "colab_type": "code",
        "colab": {}
      },
      "source": [
        "data_scan = convert_df(data,\"ScanCount\",ncol)"
      ],
      "execution_count": null,
      "outputs": []
    },
    {
      "cell_type": "markdown",
      "metadata": {
        "id": "buST86tU1GfQ",
        "colab_type": "text"
      },
      "source": [
        "**Join and concatenate **"
      ]
    },
    {
      "cell_type": "code",
      "metadata": {
        "id": "oZt1DC72bnOE",
        "colab_type": "code",
        "colab": {}
      },
      "source": [
        "data_f = pd.concat([data_dep,data_return,data_rename,data_upc,data_fineline,data_count,data_week, data_scan],axis = 0).sort_values(by = 'VisitNumber')"
      ],
      "execution_count": null,
      "outputs": []
    },
    {
      "cell_type": "code",
      "metadata": {
        "id": "ZjHmfdLiqeoC",
        "colab_type": "code",
        "colab": {}
      },
      "source": [
        "#convert TripType to category\n",
        "data_f.TripType = data_f.TripType.astype('category')\n",
        "data_f.TripType = data_f.TripType.cat.codes\n"
      ],
      "execution_count": null,
      "outputs": []
    },
    {
      "cell_type": "markdown",
      "metadata": {
        "id": "sNbnBemx1Zd1",
        "colab_type": "text"
      },
      "source": [
        "# **2.0 Test and Train**"
      ]
    },
    {
      "cell_type": "code",
      "metadata": {
        "id": "V8jYe1ive1Pv",
        "colab_type": "code",
        "colab": {}
      },
      "source": [
        "#create dataset for X,y\n",
        "X,y = create_dataset(data_f,nrow,ncol)"
      ],
      "execution_count": null,
      "outputs": []
    },
    {
      "cell_type": "code",
      "metadata": {
        "id": "0KXbBDP6fNag",
        "colab_type": "code",
        "colab": {}
      },
      "source": [
        "X_train, X_test, y_train, y_test = train_test_split(X, y, test_size=0.5, random_state=42,\n",
        "                                                   shuffle = True)"
      ],
      "execution_count": null,
      "outputs": []
    },
    {
      "cell_type": "markdown",
      "metadata": {
        "id": "20N774fBt4-R",
        "colab_type": "text"
      },
      "source": [
        "**Reshape**"
      ]
    },
    {
      "cell_type": "code",
      "metadata": {
        "id": "UMQ2ZQ1zzlKu",
        "colab_type": "code",
        "colab": {}
      },
      "source": [
        "y_train_2 = y_train.reshape(nrow,y_train.shape[0],1)\n",
        "y_test_2 = y_test.reshape(nrow,y_test.shape[0],1)"
      ],
      "execution_count": null,
      "outputs": []
    },
    {
      "cell_type": "code",
      "metadata": {
        "id": "REDjyL07zr4b",
        "colab_type": "code",
        "colab": {}
      },
      "source": [
        "X_train_2 = X_train.reshape((nrow,X_train.shape[0],ncol - 2))\n",
        "X_test_2 = X_test.reshape((nrow,X_test.shape[0],ncol - 2))"
      ],
      "execution_count": null,
      "outputs": []
    },
    {
      "cell_type": "markdown",
      "metadata": {
        "id": "323kSl3w1r9o",
        "colab_type": "text"
      },
      "source": [
        "# **3.0 Modeling**"
      ]
    },
    {
      "cell_type": "code",
      "metadata": {
        "id": "yN-v0xnz2C2d",
        "colab_type": "code",
        "colab": {}
      },
      "source": [
        "model = Sequential()\n",
        "model.add(LSTM(600, kernel_regularizer=regularizers.l1(0.00001), input_shape= (X_train_2.shape[1],X_train_2.shape[2]), return_sequences=True))\n",
        "model.add(Dropout(0.3))"
      ],
      "execution_count": null,
      "outputs": []
    },
    {
      "cell_type": "code",
      "metadata": {
        "id": "WOrOXfkm2FCU",
        "colab_type": "code",
        "colab": {}
      },
      "source": [
        "\n",
        "model.add(Dense(38,kernel_regularizer=regularizers.l1(0.00001),  activation='softmax'))\n"
      ],
      "execution_count": null,
      "outputs": []
    },
    {
      "cell_type": "code",
      "metadata": {
        "id": "YvR8m8YI2IcM",
        "colab_type": "code",
        "colab": {
          "base_uri": "https://localhost:8080/",
          "height": 257
        },
        "outputId": "c28353dd-1972-4732-f7d9-202b4388d657"
      },
      "source": [
        "model.compile(loss= 'sparse_categorical_crossentropy', \n",
        "              optimizer='adam', metrics=['accuracy']) \n",
        "print(model.summary())"
      ],
      "execution_count": null,
      "outputs": [
        {
          "output_type": "stream",
          "text": [
            "Model: \"sequential_4\"\n",
            "_________________________________________________________________\n",
            "Layer (type)                 Output Shape              Param #   \n",
            "=================================================================\n",
            "lstm_4 (LSTM)                (None, 47837, 600)        1461600   \n",
            "_________________________________________________________________\n",
            "dropout_4 (Dropout)          (None, 47837, 600)        0         \n",
            "_________________________________________________________________\n",
            "dense_3 (Dense)              (None, 47837, 38)         22838     \n",
            "=================================================================\n",
            "Total params: 1,484,438\n",
            "Trainable params: 1,484,438\n",
            "Non-trainable params: 0\n",
            "_________________________________________________________________\n",
            "None\n"
          ],
          "name": "stdout"
        }
      ]
    },
    {
      "cell_type": "code",
      "metadata": {
        "id": "e3ESc2UR1mXo",
        "colab_type": "code",
        "colab": {}
      },
      "source": [
        "learning_rate_reduction = ReduceLROnPlateau(monitor='val_accuracy', \n",
        "                                            patience=3, \n",
        "                                            verbose=1, \n",
        "                                            factor=0.5, \n",
        "                                            min_lr=0.00001)"
      ],
      "execution_count": null,
      "outputs": []
    },
    {
      "cell_type": "code",
      "metadata": {
        "id": "UDImL3NT2QPt",
        "colab_type": "code",
        "colab": {
          "base_uri": "https://localhost:8080/",
          "height": 689
        },
        "outputId": "96f30dc6-db24-460b-effd-a5c4f8e2602a"
      },
      "source": [
        "model.fit(X_train_2,y_train_2,validation_split = 0.33, epochs= 20 ,callbacks=[learning_rate_reduction],verbose = 1, batch_size= 64)"
      ],
      "execution_count": null,
      "outputs": [
        {
          "output_type": "stream",
          "text": [
            "Train on 5 samples, validate on 3 samples\n",
            "Epoch 1/20\n",
            "5/5 [==============================] - 322s 64s/step - loss: 3.8026 - accuracy: 0.0235 - val_loss: 3.2486 - val_accuracy: 0.1572\n",
            "Epoch 2/20\n",
            "5/5 [==============================] - 317s 63s/step - loss: 3.3026 - accuracy: 0.1437 - val_loss: 3.0369 - val_accuracy: 0.1913\n",
            "Epoch 3/20\n",
            "5/5 [==============================] - 312s 62s/step - loss: 3.0951 - accuracy: 0.1811 - val_loss: 2.9594 - val_accuracy: 0.1974\n",
            "Epoch 4/20\n",
            "5/5 [==============================] - 309s 62s/step - loss: 3.0235 - accuracy: 0.1876 - val_loss: 2.8963 - val_accuracy: 0.1941\n",
            "Epoch 5/20\n",
            "5/5 [==============================] - 314s 63s/step - loss: 2.9622 - accuracy: 0.1876 - val_loss: 2.8465 - val_accuracy: 0.1960\n",
            "Epoch 6/20\n",
            "5/5 [==============================] - 323s 65s/step - loss: 2.9120 - accuracy: 0.1873 - val_loss: 2.8134 - val_accuracy: 0.2017\n",
            "Epoch 7/20\n",
            "5/5 [==============================] - 304s 61s/step - loss: 2.8803 - accuracy: 0.1910 - val_loss: 2.7975 - val_accuracy: 0.2069\n",
            "Epoch 8/20\n",
            "5/5 [==============================] - 311s 62s/step - loss: 2.8621 - accuracy: 0.1973 - val_loss: 2.7839 - val_accuracy: 0.2103\n",
            "Epoch 9/20\n",
            "5/5 [==============================] - 313s 63s/step - loss: 2.8465 - accuracy: 0.2014 - val_loss: 2.7686 - val_accuracy: 0.2129\n",
            "Epoch 10/20\n",
            "5/5 [==============================] - 327s 65s/step - loss: 2.8285 - accuracy: 0.2053 - val_loss: 2.7503 - val_accuracy: 0.2145\n",
            "Epoch 11/20\n",
            "5/5 [==============================] - 327s 65s/step - loss: 2.8069 - accuracy: 0.2053 - val_loss: 2.7361 - val_accuracy: 0.2144\n",
            "Epoch 12/20\n",
            "5/5 [==============================] - 316s 63s/step - loss: 2.7913 - accuracy: 0.2079 - val_loss: 2.7267 - val_accuracy: 0.2137\n",
            "Epoch 13/20\n",
            "5/5 [==============================] - 309s 62s/step - loss: 2.7791 - accuracy: 0.2081 - val_loss: 2.7195 - val_accuracy: 0.2151\n",
            "Epoch 14/20\n",
            "5/5 [==============================] - 318s 64s/step - loss: 2.7702 - accuracy: 0.2096 - val_loss: 2.7133 - val_accuracy: 0.2161\n",
            "Epoch 15/20\n",
            "5/5 [==============================] - 313s 63s/step - loss: 2.7622 - accuracy: 0.2106 - val_loss: 2.7070 - val_accuracy: 0.2170\n",
            "Epoch 16/20\n",
            "5/5 [==============================] - 310s 62s/step - loss: 2.7559 - accuracy: 0.2118 - val_loss: 2.7005 - val_accuracy: 0.2187\n",
            "Epoch 17/20\n",
            "5/5 [==============================] - 311s 62s/step - loss: 2.7480 - accuracy: 0.2120 - val_loss: 2.6944 - val_accuracy: 0.2213\n",
            "Epoch 18/20\n",
            "5/5 [==============================] - 314s 63s/step - loss: 2.7409 - accuracy: 0.2133 - val_loss: 2.6891 - val_accuracy: 0.2219\n",
            "Epoch 19/20\n",
            "5/5 [==============================] - 302s 60s/step - loss: 2.7351 - accuracy: 0.2136 - val_loss: 2.6836 - val_accuracy: 0.2226\n",
            "Epoch 20/20\n",
            "5/5 [==============================] - 312s 62s/step - loss: 2.7296 - accuracy: 0.2149 - val_loss: 2.6782 - val_accuracy: 0.2224\n"
          ],
          "name": "stdout"
        },
        {
          "output_type": "execute_result",
          "data": {
            "text/plain": [
              "<keras.callbacks.callbacks.History at 0x7fd106c58d68>"
            ]
          },
          "metadata": {
            "tags": []
          },
          "execution_count": 71
        }
      ]
    },
    {
      "cell_type": "code",
      "metadata": {
        "id": "nxF37DAZ3-yG",
        "colab_type": "code",
        "colab": {}
      },
      "source": [
        ""
      ],
      "execution_count": null,
      "outputs": []
    },
    {
      "cell_type": "code",
      "metadata": {
        "id": "tv5AzRA41m2Z",
        "colab_type": "code",
        "colab": {
          "base_uri": "https://localhost:8080/",
          "height": 49
        },
        "outputId": "c1fb68dd-e7bd-41fb-d45b-f1e7662ab755"
      },
      "source": [
        "score = model.evaluate(X_test_2, y_test_2, verbose=0)\n",
        "print('Test loss:', score[0])\n",
        "print('Test accuracy:', score[1])"
      ],
      "execution_count": null,
      "outputs": [
        {
          "output_type": "stream",
          "text": [
            "Test loss: 2.688533067703247\n",
            "Test accuracy: 0.22442618012428284\n"
          ],
          "name": "stdout"
        }
      ]
    },
    {
      "cell_type": "markdown",
      "metadata": {
        "id": "AYeOD_gSt_ua",
        "colab_type": "text"
      },
      "source": [
        "As the accuracy is too low, then we will keep the original model."
      ]
    },
    {
      "cell_type": "code",
      "metadata": {
        "id": "7bUt6s5QuKsJ",
        "colab_type": "code",
        "colab": {}
      },
      "source": [
        ""
      ],
      "execution_count": null,
      "outputs": []
    }
  ]
}
