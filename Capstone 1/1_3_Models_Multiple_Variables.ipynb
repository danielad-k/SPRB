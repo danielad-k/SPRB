{
  "nbformat": 4,
  "nbformat_minor": 0,
  "metadata": {
    "kernelspec": {
      "display_name": "Python 3",
      "language": "python",
      "name": "python3"
    },
    "language_info": {
      "codemirror_mode": {
        "name": "ipython",
        "version": 3
      },
      "file_extension": ".py",
      "mimetype": "text/x-python",
      "name": "python",
      "nbconvert_exporter": "python",
      "pygments_lexer": "ipython3",
      "version": "3.7.3"
    },
    "colab": {
      "name": "1.3 Models - Multiple Variables.ipynb",
      "provenance": [],
      "collapsed_sections": [
        "OC-_jlkOFICU",
        "Qoj0z2sOJb13",
        "1emM0TH09lZz"
      ],
      "toc_visible": true,
      "include_colab_link": true
    }
  },
  "cells": [
    {
      "cell_type": "markdown",
      "metadata": {
        "id": "view-in-github",
        "colab_type": "text"
      },
      "source": [
        "<a href=\"https://colab.research.google.com/github/danielad-k/SPRB/blob/master/Capstone%201/1_3_Models_Multiple_Variables.ipynb\" target=\"_parent\"><img src=\"https://colab.research.google.com/assets/colab-badge.svg\" alt=\"Open In Colab\"/></a>"
      ]
    },
    {
      "cell_type": "code",
      "metadata": {
        "id": "wyguK2kK9lWx",
        "colab_type": "code",
        "outputId": "2c1aadd4-d4a5-4bf7-d4ae-9834b7e7a2ee",
        "colab": {
          "base_uri": "https://localhost:8080/",
          "height": 51
        }
      },
      "source": [
        "import os\n",
        "import glob\n",
        "import pandas as pd\n",
        "import csv\n",
        "from io import StringIO\n",
        "import io\n",
        "import matplotlib.pyplot as plt\n",
        "import numpy as np\n",
        "import seaborn as sns\n",
        "import statsmodels.api as sm\n",
        "from scipy.stats import norm\n",
        "import nltk\n",
        "import sys\n",
        "from scipy.stats import t\n",
        "from scipy import stats\n",
        "import statsmodels.api as sa\n",
        "import statsmodels.formula.api as sfa\n",
        "from sklearn.naive_bayes import MultinomialNB\n",
        "from sklearn.model_selection import train_test_split\n",
        "from sklearn.metrics import accuracy_score\n",
        "import xgboost as xgb\n",
        "from sklearn.feature_extraction.text import TfidfVectorizer\n",
        "from sklearn.linear_model import LogisticRegression\n",
        "from sklearn.pipeline import Pipeline\n",
        "from sklearn.ensemble import RandomForestClassifier\n",
        "from sklearn.model_selection import GridSearchCV\n",
        "from sklearn.feature_extraction.text import CountVectorizer,TfidfTransformer\n",
        "import warnings\n",
        "from sklearn.exceptions import DataConversionWarning\n",
        "warnings.filterwarnings(action='ignore', category=DataConversionWarning)\n",
        "from sklearn.compose import ColumnTransformer\n",
        "from sklearn import linear_model\n",
        "from sklearn import svm\n",
        "from sklearn.impute import SimpleImputer\n",
        "from sklearn.preprocessing import OneHotEncoder,StandardScaler\n",
        "from sklearn.preprocessing import OrdinalEncoder\n",
        "from sklearn.preprocessing import LabelEncoder\n",
        "from sklearn.ensemble import StackingClassifier\n",
        "from nltk.stem import WordNetLemmatizer\n",
        "from nltk.stem import PorterStemmer\n",
        "from sklearn.svm import SVC\n",
        "from sklearn.ensemble import  AdaBoostClassifier\n",
        "from sklearn.naive_bayes import GaussianNB\n",
        "from sklearn.decomposition import TruncatedSVD\n"
      ],
      "execution_count": 2,
      "outputs": [
        {
          "output_type": "stream",
          "text": [
            "/usr/local/lib/python3.6/dist-packages/statsmodels/tools/_testing.py:19: FutureWarning: pandas.util.testing is deprecated. Use the functions in the public API at pandas.testing instead.\n",
            "  import pandas.util.testing as tm\n"
          ],
          "name": "stderr"
        }
      ]
    },
    {
      "cell_type": "code",
      "metadata": {
        "id": "nWmHnLJYEP51",
        "colab_type": "code",
        "outputId": "cd46d954-2953-48d2-874a-76f1013b323a",
        "colab": {
          "base_uri": "https://localhost:8080/",
          "height": 204
        }
      },
      "source": [
        "nltk.download('punkt')\n",
        "nltk.download('averaged_perceptron_tagger')\n",
        "nltk.download('maxent_ne_chunker')\n",
        "nltk.download('words')"
      ],
      "execution_count": 3,
      "outputs": [
        {
          "output_type": "stream",
          "text": [
            "[nltk_data] Downloading package punkt to /root/nltk_data...\n",
            "[nltk_data]   Unzipping tokenizers/punkt.zip.\n",
            "[nltk_data] Downloading package averaged_perceptron_tagger to\n",
            "[nltk_data]     /root/nltk_data...\n",
            "[nltk_data]   Unzipping taggers/averaged_perceptron_tagger.zip.\n",
            "[nltk_data] Downloading package maxent_ne_chunker to\n",
            "[nltk_data]     /root/nltk_data...\n",
            "[nltk_data]   Unzipping chunkers/maxent_ne_chunker.zip.\n",
            "[nltk_data] Downloading package words to /root/nltk_data...\n",
            "[nltk_data]   Unzipping corpora/words.zip.\n"
          ],
          "name": "stdout"
        },
        {
          "output_type": "execute_result",
          "data": {
            "text/plain": [
              "True"
            ]
          },
          "metadata": {
            "tags": []
          },
          "execution_count": 3
        }
      ]
    },
    {
      "cell_type": "markdown",
      "metadata": {
        "id": "p_Uudv-OFkuv",
        "colab_type": "text"
      },
      "source": [
        "\n",
        "\n",
        "```\n",
        "# This is formatted as code\n",
        "```\n",
        "\n",
        "## 1.Read Data, Data Cleaning\n"
      ]
    },
    {
      "cell_type": "markdown",
      "metadata": {
        "id": "RXN5H1LnFreo",
        "colab_type": "text"
      },
      "source": [
        "Data Cleaning"
      ]
    },
    {
      "cell_type": "code",
      "metadata": {
        "id": "avm2DKON9lW6",
        "colab_type": "code",
        "colab": {}
      },
      "source": [
        "kick_data_cleaned = pd.read_csv('kick_data_cleaned.csv',index_col = None)"
      ],
      "execution_count": 0,
      "outputs": []
    },
    {
      "cell_type": "code",
      "metadata": {
        "id": "KnIOVJ3l9lXA",
        "colab_type": "code",
        "colab": {}
      },
      "source": [
        "kick_data_cleaned = kick_data_cleaned.query(\"state == 'failed' or state == 'successful'\") #only focus on successful and failed projects"
      ],
      "execution_count": 0,
      "outputs": []
    },
    {
      "cell_type": "code",
      "metadata": {
        "id": "RdG72axTkfBP",
        "colab_type": "code",
        "colab": {}
      },
      "source": [
        "kick_data_cleaned[\"launched_deadline_days_diff\"] = kick_data_cleaned[\"launched_deadline_days_diff\"] .apply(lambda x: x + 1)"
      ],
      "execution_count": 0,
      "outputs": []
    },
    {
      "cell_type": "code",
      "metadata": {
        "id": "erJwOmcQ9lXE",
        "colab_type": "code",
        "colab": {}
      },
      "source": [
        "kick_data_cleaned['state_num'] = kick_data_cleaned.state.map({'successful': 1, 'failed': 0 }) #convert to one and zero"
      ],
      "execution_count": 0,
      "outputs": []
    },
    {
      "cell_type": "code",
      "metadata": {
        "id": "80Zxig289lXL",
        "colab_type": "code",
        "colab": {}
      },
      "source": [
        "kick_data_cleaned = kick_data_cleaned[~kick_data_cleaned.name.isnull()] #remove nulls - they are around 3-4"
      ],
      "execution_count": 0,
      "outputs": []
    },
    {
      "cell_type": "code",
      "metadata": {
        "id": "3NII4gU99lXS",
        "colab_type": "code",
        "outputId": "7a63180b-fe4f-4129-9c59-c5545af7ea82",
        "colab": {
          "base_uri": "https://localhost:8080/",
          "height": 479
        }
      },
      "source": [
        "kick_data_cleaned.head()"
      ],
      "execution_count": 9,
      "outputs": [
        {
          "output_type": "execute_result",
          "data": {
            "text/html": [
              "<div>\n",
              "<style scoped>\n",
              "    .dataframe tbody tr th:only-of-type {\n",
              "        vertical-align: middle;\n",
              "    }\n",
              "\n",
              "    .dataframe tbody tr th {\n",
              "        vertical-align: top;\n",
              "    }\n",
              "\n",
              "    .dataframe thead th {\n",
              "        text-align: right;\n",
              "    }\n",
              "</style>\n",
              "<table border=\"1\" class=\"dataframe\">\n",
              "  <thead>\n",
              "    <tr style=\"text-align: right;\">\n",
              "      <th></th>\n",
              "      <th>Unnamed: 0</th>\n",
              "      <th>ID</th>\n",
              "      <th>category</th>\n",
              "      <th>main_category</th>\n",
              "      <th>goal</th>\n",
              "      <th>pledged</th>\n",
              "      <th>state</th>\n",
              "      <th>backers</th>\n",
              "      <th>country</th>\n",
              "      <th>usd pledged</th>\n",
              "      <th>usd_pledged_real</th>\n",
              "      <th>usd_goal_real</th>\n",
              "      <th>launched_month</th>\n",
              "      <th>deadline_month</th>\n",
              "      <th>launched_deadline_days_diff</th>\n",
              "      <th>pledged_goal_diff</th>\n",
              "      <th>goal_outcome</th>\n",
              "      <th>name</th>\n",
              "      <th>launch_deadline_diff</th>\n",
              "      <th>currency</th>\n",
              "      <th>deadline</th>\n",
              "      <th>launched</th>\n",
              "      <th>state_num</th>\n",
              "    </tr>\n",
              "  </thead>\n",
              "  <tbody>\n",
              "    <tr>\n",
              "      <th>0</th>\n",
              "      <td>0</td>\n",
              "      <td>175876.0</td>\n",
              "      <td>Poetry</td>\n",
              "      <td>Publishing</td>\n",
              "      <td>724.0</td>\n",
              "      <td>0.0</td>\n",
              "      <td>failed</td>\n",
              "      <td>0.0</td>\n",
              "      <td>GB</td>\n",
              "      <td>0.0</td>\n",
              "      <td>0.0</td>\n",
              "      <td>11173.0</td>\n",
              "      <td>7.0</td>\n",
              "      <td>9.0</td>\n",
              "      <td>59.0</td>\n",
              "      <td>82468.0</td>\n",
              "      <td>negative</td>\n",
              "      <td>The Songs of Adelaide &amp; Abullah</td>\n",
              "      <td>58 days 11:48:00.000000000</td>\n",
              "      <td>GBP</td>\n",
              "      <td>2015-10-09 00:00:00</td>\n",
              "      <td>2015-08-11 12:12:00</td>\n",
              "      <td>0</td>\n",
              "    </tr>\n",
              "    <tr>\n",
              "      <th>1</th>\n",
              "      <td>1</td>\n",
              "      <td>175877.0</td>\n",
              "      <td>Narrative Film</td>\n",
              "      <td>Film &amp; Video</td>\n",
              "      <td>5991.0</td>\n",
              "      <td>8764.0</td>\n",
              "      <td>failed</td>\n",
              "      <td>15.0</td>\n",
              "      <td>US</td>\n",
              "      <td>7354.0</td>\n",
              "      <td>38017.0</td>\n",
              "      <td>38849.0</td>\n",
              "      <td>8.0</td>\n",
              "      <td>10.0</td>\n",
              "      <td>60.0</td>\n",
              "      <td>29783.0</td>\n",
              "      <td>negative</td>\n",
              "      <td>Greeting From Earth: ZGAC Arts Capsule For ET</td>\n",
              "      <td>59 days 19:17:00.000000000</td>\n",
              "      <td>USD</td>\n",
              "      <td>2017-11-01 00:00:00</td>\n",
              "      <td>2017-09-02 04:43:00</td>\n",
              "      <td>0</td>\n",
              "    </tr>\n",
              "    <tr>\n",
              "      <th>2</th>\n",
              "      <td>2</td>\n",
              "      <td>175878.0</td>\n",
              "      <td>Narrative Film</td>\n",
              "      <td>Film &amp; Video</td>\n",
              "      <td>6512.0</td>\n",
              "      <td>1195.0</td>\n",
              "      <td>failed</td>\n",
              "      <td>3.0</td>\n",
              "      <td>US</td>\n",
              "      <td>12519.0</td>\n",
              "      <td>11363.0</td>\n",
              "      <td>41904.0</td>\n",
              "      <td>0.0</td>\n",
              "      <td>1.0</td>\n",
              "      <td>45.0</td>\n",
              "      <td>20202.0</td>\n",
              "      <td>negative</td>\n",
              "      <td>Where is Hank?</td>\n",
              "      <td>44 days 23:40:00.000000000</td>\n",
              "      <td>USD</td>\n",
              "      <td>2013-02-26 00:00:00</td>\n",
              "      <td>2013-01-12 00:20:00</td>\n",
              "      <td>0</td>\n",
              "    </tr>\n",
              "    <tr>\n",
              "      <th>3</th>\n",
              "      <td>3</td>\n",
              "      <td>175879.0</td>\n",
              "      <td>Music</td>\n",
              "      <td>Music</td>\n",
              "      <td>2552.0</td>\n",
              "      <td>1.0</td>\n",
              "      <td>failed</td>\n",
              "      <td>1.0</td>\n",
              "      <td>US</td>\n",
              "      <td>52.0</td>\n",
              "      <td>54.0</td>\n",
              "      <td>21197.0</td>\n",
              "      <td>2.0</td>\n",
              "      <td>3.0</td>\n",
              "      <td>30.0</td>\n",
              "      <td>66441.0</td>\n",
              "      <td>negative</td>\n",
              "      <td>ToshiCapital Rekordz Needs Help to Complete Album</td>\n",
              "      <td>29 days 20:36:00.000000000</td>\n",
              "      <td>USD</td>\n",
              "      <td>2012-04-16 00:00:00</td>\n",
              "      <td>2012-03-17 03:24:00</td>\n",
              "      <td>0</td>\n",
              "    </tr>\n",
              "    <tr>\n",
              "      <th>5</th>\n",
              "      <td>5</td>\n",
              "      <td>175881.0</td>\n",
              "      <td>Restaurants</td>\n",
              "      <td>Food</td>\n",
              "      <td>6658.0</td>\n",
              "      <td>51792.0</td>\n",
              "      <td>successful</td>\n",
              "      <td>224.0</td>\n",
              "      <td>US</td>\n",
              "      <td>88037.0</td>\n",
              "      <td>96324.0</td>\n",
              "      <td>42659.0</td>\n",
              "      <td>1.0</td>\n",
              "      <td>3.0</td>\n",
              "      <td>35.0</td>\n",
              "      <td>124839.0</td>\n",
              "      <td>surplus</td>\n",
              "      <td>Monarch Espresso Bar</td>\n",
              "      <td>34 days 10:22:00.000000000</td>\n",
              "      <td>USD</td>\n",
              "      <td>2016-04-01 00:00:00</td>\n",
              "      <td>2016-02-26 13:38:00</td>\n",
              "      <td>1</td>\n",
              "    </tr>\n",
              "  </tbody>\n",
              "</table>\n",
              "</div>"
            ],
            "text/plain": [
              "   Unnamed: 0        ID  ...             launched state_num\n",
              "0           0  175876.0  ...  2015-08-11 12:12:00         0\n",
              "1           1  175877.0  ...  2017-09-02 04:43:00         0\n",
              "2           2  175878.0  ...  2013-01-12 00:20:00         0\n",
              "3           3  175879.0  ...  2012-03-17 03:24:00         0\n",
              "5           5  175881.0  ...  2016-02-26 13:38:00         1\n",
              "\n",
              "[5 rows x 23 columns]"
            ]
          },
          "metadata": {
            "tags": []
          },
          "execution_count": 9
        }
      ]
    },
    {
      "cell_type": "code",
      "metadata": {
        "id": "u5W19rokiPCd",
        "colab_type": "code",
        "colab": {}
      },
      "source": [
        "kick_data_cleaned['goal_per_day'] = kick_data_cleaned.usd_goal_real/kick_data_cleaned.launched_deadline_days_diff"
      ],
      "execution_count": 0,
      "outputs": []
    },
    {
      "cell_type": "code",
      "metadata": {
        "id": "-7j73Wtq9lXi",
        "colab_type": "code",
        "outputId": "25d27b7a-4891-4adc-c377-cda7d01e55cb",
        "colab": {
          "base_uri": "https://localhost:8080/",
          "height": 85
        }
      },
      "source": [
        "kick_data_cleaned[['state']].groupby(['state']).size()/len(kick_data_cleaned) \n",
        "#there isn't a huge data imbalence between the columns."
      ],
      "execution_count": 11,
      "outputs": [
        {
          "output_type": "execute_result",
          "data": {
            "text/plain": [
              "state\n",
              "failed        0.593465\n",
              "successful    0.406535\n",
              "dtype: float64"
            ]
          },
          "metadata": {
            "tags": []
          },
          "execution_count": 11
        }
      ]
    },
    {
      "cell_type": "markdown",
      "metadata": {
        "id": "Bk-jEXR4pTJe",
        "colab_type": "text"
      },
      "source": [
        "###1.1 POS Preprocesing"
      ]
    },
    {
      "cell_type": "code",
      "metadata": {
        "id": "x6FGFWzHDXzT",
        "colab_type": "code",
        "colab": {}
      },
      "source": [
        "def preprocess(sent):\n",
        "    sent = nltk.word_tokenize(sent) #tokenize each word\n",
        "    sent = nltk.pos_tag(sent) # get pos tag\n",
        "    return sent"
      ],
      "execution_count": 0,
      "outputs": []
    },
    {
      "cell_type": "code",
      "metadata": {
        "id": "Oelr7oh1HssB",
        "colab_type": "code",
        "colab": {}
      },
      "source": [
        "kick_data_cleaned['tag'] = kick_data_cleaned['name'].apply(lambda x: preprocess(x))"
      ],
      "execution_count": 0,
      "outputs": []
    },
    {
      "cell_type": "code",
      "metadata": {
        "id": "0FGiakoyL4kX",
        "colab_type": "code",
        "colab": {}
      },
      "source": [
        "def prep2(x):\n",
        "  import re\n",
        "  tup = [j[1] for j in x] #extract post tag\n",
        "  tupx = sorted(set(tup)) # get unique items\n",
        "  tup2 = ','.join(tupx) #join\n",
        "  tup1 = re.sub(\":|\\.|\\$|``|\\)|\\(|''|#\",'',tup2) #remove :, $, #\n",
        "  tup3 = re.sub('^,{1,50}|,$','',tup1) #remove space\n",
        "\n",
        "  return tup3"
      ],
      "execution_count": 0,
      "outputs": []
    },
    {
      "cell_type": "code",
      "metadata": {
        "id": "FiJzLIoTHoim",
        "colab_type": "code",
        "colab": {}
      },
      "source": [
        "kick_data_cleaned['tag2'] = kick_data_cleaned['tag'].apply(lambda x: prep2(x))"
      ],
      "execution_count": 0,
      "outputs": []
    },
    {
      "cell_type": "code",
      "metadata": {
        "id": "ysETIRXCRztp",
        "colab_type": "code",
        "outputId": "edbec43a-6698-4026-a67d-b3ed6905c6f9",
        "colab": {
          "base_uri": "https://localhost:8080/",
          "height": 34
        }
      },
      "source": [
        "kick_data_cleaned.shape"
      ],
      "execution_count": 16,
      "outputs": [
        {
          "output_type": "execute_result",
          "data": {
            "text/plain": [
              "(127347, 26)"
            ]
          },
          "metadata": {
            "tags": []
          },
          "execution_count": 16
        }
      ]
    },
    {
      "cell_type": "code",
      "metadata": {
        "id": "gHLP9GU0bDvV",
        "colab_type": "code",
        "colab": {}
      },
      "source": [
        "dummies = kick_data_cleaned.tag2.str.get_dummies(',') #get dummies"
      ],
      "execution_count": 0,
      "outputs": []
    },
    {
      "cell_type": "code",
      "metadata": {
        "id": "GjfL_y_5fjtJ",
        "colab_type": "code",
        "colab": {}
      },
      "source": [
        "dummies = pd.DataFrame(dummies) # convert to dataframe"
      ],
      "execution_count": 0,
      "outputs": []
    },
    {
      "cell_type": "code",
      "metadata": {
        "id": "XONzGVeoMNLr",
        "colab_type": "code",
        "colab": {}
      },
      "source": [
        "kick_data_cleaned =pd.concat([kick_data_cleaned,dummies],axis = 1)"
      ],
      "execution_count": 0,
      "outputs": []
    },
    {
      "cell_type": "markdown",
      "metadata": {
        "id": "nNZOCSXYqGUV",
        "colab_type": "text"
      },
      "source": [
        "###1.2 Select Columns and Traing/Test Split"
      ]
    },
    {
      "cell_type": "code",
      "metadata": {
        "id": "-n43DG4w9lXo",
        "colab_type": "code",
        "colab": {}
      },
      "source": [
        "X = kick_data_cleaned[kick_data_cleaned.columns.difference([\"goal\",\"ID\",\"state_num\",\"pledged\",\"backers\",\"usd_pledged_real\",\"pledged_goal_diff\",\n",
        "                              \"goal_outcome\",\"launch_deadline_diff\",\"currency\",\"deadline\",\"launched\",\"state\",\"tag\",\"tag2\",\"Unnamed: 0\",\"usd pledged\"])]"
      ],
      "execution_count": 0,
      "outputs": []
    },
    {
      "cell_type": "code",
      "metadata": {
        "id": "Yt2Ace7ueGd9",
        "colab_type": "code",
        "colab": {}
      },
      "source": [
        "X = X.fillna(0)"
      ],
      "execution_count": 0,
      "outputs": []
    },
    {
      "cell_type": "code",
      "metadata": {
        "id": "PQhdUdsS9lYB",
        "colab_type": "code",
        "colab": {}
      },
      "source": [
        "y = kick_data_cleaned.state_num "
      ],
      "execution_count": 0,
      "outputs": []
    },
    {
      "cell_type": "code",
      "metadata": {
        "id": "j6b5sF4t9lYE",
        "colab_type": "code",
        "colab": {}
      },
      "source": [
        "X_train, X_test, y_train, y_test = train_test_split(X, y, test_size=0.2, random_state=42) #test_train model"
      ],
      "execution_count": 0,
      "outputs": []
    },
    {
      "cell_type": "markdown",
      "metadata": {
        "id": "C2eE1xCY9lYN",
        "colab_type": "text"
      },
      "source": [
        "## 2.Pipeline: Basic Model\n"
      ]
    },
    {
      "cell_type": "markdown",
      "metadata": {
        "id": "i4pMbklc7z0o",
        "colab_type": "text"
      },
      "source": [
        "Test which model tends to have the best performance.\n"
      ]
    },
    {
      "cell_type": "code",
      "metadata": {
        "id": "VN5C85hN9lYP",
        "colab_type": "code",
        "colab": {}
      },
      "source": [
        "from sklearn.base import BaseEstimator\n",
        "\n",
        "class DummyEstimator(BaseEstimator):\n",
        "    def fit(self): pass\n",
        "    def score(self): pass"
      ],
      "execution_count": 0,
      "outputs": []
    },
    {
      "cell_type": "code",
      "metadata": {
        "id": "4SWwi9c_9lYV",
        "colab_type": "code",
        "colab": {}
      },
      "source": [
        "from sklearn.base import TransformerMixin\n",
        "from nltk.corpus import stopwords\n",
        "\n",
        "class LemStem(TransformerMixin):\n",
        "    def lem(self):\n",
        "        return WordNetLemmatizer().lemmatize(self, pos='v')\n",
        "            \n",
        "    \n",
        "    def stem(self):\n",
        "        return PorterStemmer().stem(self)\n",
        "    \n",
        "    def __call__(self,x):\n",
        "        return [LemStem.stem(t.lower()) for t in x]\n",
        "    \n",
        "    def fit(self):\n",
        "        pass\n",
        "    \n",
        "    def transform(self):\n",
        "        pass\n",
        "        \n",
        "    \n",
        " \n",
        "        \n",
        "        "
      ],
      "execution_count": 0,
      "outputs": []
    },
    {
      "cell_type": "code",
      "metadata": {
        "id": "Ko_E122u9lYe",
        "colab_type": "code",
        "colab": {}
      },
      "source": [
        "#preprocessing - make into one hot encoding\n",
        "categorical_features = ['main_category','category', 'country']\n",
        "categorical_transformer = Pipeline(steps=[\n",
        "   ('onehot', OneHotEncoder(handle_unknown = 'ignore'))])"
      ],
      "execution_count": 0,
      "outputs": []
    },
    {
      "cell_type": "code",
      "metadata": {
        "id": "3MiLB1ftpesn",
        "colab_type": "code",
        "colab": {}
      },
      "source": [
        "numeric_features = ['usd_goal_real','goal_per_day']\n",
        "numeric_transformer = Pipeline(steps=[\n",
        "    ('scaler', StandardScaler())])"
      ],
      "execution_count": 0,
      "outputs": []
    },
    {
      "cell_type": "code",
      "metadata": {
        "id": "0ac6P1BL9lYk",
        "colab_type": "code",
        "colab": {}
      },
      "source": [
        "#vectorize categorical variables\n",
        "vect_features = 'name'\n",
        "vect_transformer = Pipeline(steps=[\n",
        "    ('vect', CountVectorizer(strip_accents = 'ascii',\n",
        "                             ngram_range = (1,2)))])"
      ],
      "execution_count": 0,
      "outputs": []
    },
    {
      "cell_type": "code",
      "metadata": {
        "id": "yKCWtyu79lYo",
        "colab_type": "code",
        "colab": {}
      },
      "source": [
        "#Use column transformer to join them\n",
        "preprocessor = ColumnTransformer(\n",
        "    transformers=[\n",
        "        ('vect', vect_transformer, vect_features),\n",
        "        ('cat', categorical_transformer, categorical_features),\n",
        "         ('num', numeric_transformer,numeric_features)])"
      ],
      "execution_count": 0,
      "outputs": []
    },
    {
      "cell_type": "code",
      "metadata": {
        "id": "zVNCAMcr9lYr",
        "colab_type": "code",
        "colab": {}
      },
      "source": [
        "#create pipeline\n",
        "pipe = Pipeline(steps=[('preprocessor', preprocessor),\n",
        "                      ('clf', DummyEstimator())])"
      ],
      "execution_count": 0,
      "outputs": []
    },
    {
      "cell_type": "code",
      "metadata": {
        "id": "Q_Wqrhdy9lY0",
        "colab_type": "code",
        "colab": {}
      },
      "source": [
        "search_space = [ #input 8 classifiers \n",
        "                    \n",
        "                 {\n",
        "                  'clf': [xgb.XGBClassifier()]},\n",
        "                {'clf': [linear_model.SGDClassifier(max_iter=1000, tol=1e-3)]},\n",
        "                {\n",
        "                 'clf': [RandomForestClassifier(max_depth=5,random_state=0)]\n",
        "                } ,\n",
        "                {\n",
        "                 'clf': [SVC(max_iter = 1000)]},\n",
        "    \n",
        "\n",
        "    \n",
        "                {\n",
        "                  'clf':[AdaBoostClassifier()]},\n",
        "            \n",
        "                {\n",
        "                    'clf': [LogisticRegression()]},\n",
        "\n",
        "                                \n",
        "\n",
        "]"
      ],
      "execution_count": 0,
      "outputs": []
    },
    {
      "cell_type": "code",
      "metadata": {
        "id": "i8ziL5G99lY4",
        "colab_type": "code",
        "outputId": "651df59d-5cdd-4fc9-abb2-404b45a98a24",
        "colab": {
          "base_uri": "https://localhost:8080/",
          "height": 734
        }
      },
      "source": [
        "#based on grid search then make \n",
        "grid = GridSearchCV(pipe, cv=5, param_grid=search_space,error_score = 0,verbose = 10, n_jobs = -1)\n",
        "grid.fit(X_train,y_train)"
      ],
      "execution_count": 69,
      "outputs": [
        {
          "output_type": "stream",
          "text": [
            "Fitting 5 folds for each of 6 candidates, totalling 30 fits\n"
          ],
          "name": "stdout"
        },
        {
          "output_type": "stream",
          "text": [
            "[Parallel(n_jobs=-1)]: Using backend LokyBackend with 2 concurrent workers.\n",
            "[Parallel(n_jobs=-1)]: Done   1 tasks      | elapsed:  2.7min\n",
            "[Parallel(n_jobs=-1)]: Done   4 tasks      | elapsed:  5.3min\n",
            "[Parallel(n_jobs=-1)]: Done   9 tasks      | elapsed:  6.4min\n",
            "[Parallel(n_jobs=-1)]: Done  14 tasks      | elapsed:  7.7min\n",
            "/usr/local/lib/python3.6/dist-packages/joblib/externals/loky/process_executor.py:706: UserWarning: A worker stopped while some jobs were given to the executor. This can be caused by a too short worker timeout or by a memory leak.\n",
            "  \"timeout or by a memory leak.\", UserWarning\n",
            "[Parallel(n_jobs=-1)]: Done  21 tasks      | elapsed: 12.5min\n",
            "[Parallel(n_jobs=-1)]: Done  30 out of  30 | elapsed: 16.0min finished\n"
          ],
          "name": "stderr"
        },
        {
          "output_type": "execute_result",
          "data": {
            "text/plain": [
              "GridSearchCV(cv=5, error_score=0,\n",
              "             estimator=Pipeline(memory=None,\n",
              "                                steps=[('preprocessor',\n",
              "                                        ColumnTransformer(n_jobs=None,\n",
              "                                                          remainder='drop',\n",
              "                                                          sparse_threshold=0.3,\n",
              "                                                          transformer_weights=None,\n",
              "                                                          transformers=[('vect',\n",
              "                                                                         Pipeline(memory=None,\n",
              "                                                                                  steps=[('vect',\n",
              "                                                                                          CountVectorizer(analyzer='word',\n",
              "                                                                                                          binary=False,\n",
              "                                                                                                          decode_error='strict',\n",
              "                                                                                                          dtype=<class 'numpy.int64'>,\n",
              "                                                                                                          encoding='utf-8',\n",
              "                                                                                                          in...\n",
              "                                                     random_state=None)]},\n",
              "                         {'clf': [LogisticRegression(C=1.0, class_weight=None,\n",
              "                                                     dual=False,\n",
              "                                                     fit_intercept=True,\n",
              "                                                     intercept_scaling=1,\n",
              "                                                     l1_ratio=None,\n",
              "                                                     max_iter=100,\n",
              "                                                     multi_class='auto',\n",
              "                                                     n_jobs=None, penalty='l2',\n",
              "                                                     random_state=None,\n",
              "                                                     solver='lbfgs', tol=0.0001,\n",
              "                                                     verbose=0,\n",
              "                                                     warm_start=False)]}],\n",
              "             pre_dispatch='2*n_jobs', refit=True, return_train_score=False,\n",
              "             scoring=None, verbose=10)"
            ]
          },
          "metadata": {
            "tags": []
          },
          "execution_count": 69
        }
      ]
    },
    {
      "cell_type": "code",
      "metadata": {
        "id": "Hc_TPmSf9lY8",
        "colab_type": "code",
        "outputId": "94ad4a6d-be78-4da6-f86f-157433c70eb7",
        "colab": {
          "base_uri": "https://localhost:8080/",
          "height": 119
        }
      },
      "source": [
        "print(\"Best: %f using %s\" % (grid.best_score_, \n",
        "    grid.best_params_))"
      ],
      "execution_count": 70,
      "outputs": [
        {
          "output_type": "stream",
          "text": [
            "Best: 0.693831 using {'clf': SGDClassifier(alpha=0.0001, average=False, class_weight=None,\n",
            "              early_stopping=False, epsilon=0.1, eta0=0.0, fit_intercept=True,\n",
            "              l1_ratio=0.15, learning_rate='optimal', loss='hinge',\n",
            "              max_iter=1000, n_iter_no_change=5, n_jobs=None, penalty='l2',\n",
            "              power_t=0.5, random_state=None, shuffle=True, tol=0.001,\n",
            "              validation_fraction=0.1, verbose=0, warm_start=False)}\n"
          ],
          "name": "stdout"
        }
      ]
    },
    {
      "cell_type": "code",
      "metadata": {
        "id": "rnmmEeYeKsFj",
        "colab_type": "code",
        "outputId": "7f1ea685-55c3-4887-c5b5-95da0a3b5907",
        "colab": {
          "base_uri": "https://localhost:8080/",
          "height": 235
        }
      },
      "source": [
        "pd.DataFrame(grid.cv_results_)[['param_clf','mean_test_score','rank_test_score']].sort_values(by = 'rank_test_score')"
      ],
      "execution_count": 71,
      "outputs": [
        {
          "output_type": "execute_result",
          "data": {
            "text/html": [
              "<div>\n",
              "<style scoped>\n",
              "    .dataframe tbody tr th:only-of-type {\n",
              "        vertical-align: middle;\n",
              "    }\n",
              "\n",
              "    .dataframe tbody tr th {\n",
              "        vertical-align: top;\n",
              "    }\n",
              "\n",
              "    .dataframe thead th {\n",
              "        text-align: right;\n",
              "    }\n",
              "</style>\n",
              "<table border=\"1\" class=\"dataframe\">\n",
              "  <thead>\n",
              "    <tr style=\"text-align: right;\">\n",
              "      <th></th>\n",
              "      <th>param_clf</th>\n",
              "      <th>mean_test_score</th>\n",
              "      <th>rank_test_score</th>\n",
              "    </tr>\n",
              "  </thead>\n",
              "  <tbody>\n",
              "    <tr>\n",
              "      <th>1</th>\n",
              "      <td>SGDClassifier(alpha=0.0001, average=False, cla...</td>\n",
              "      <td>0.693831</td>\n",
              "      <td>1</td>\n",
              "    </tr>\n",
              "    <tr>\n",
              "      <th>5</th>\n",
              "      <td>LogisticRegression(C=1.0, class_weight=None, d...</td>\n",
              "      <td>0.683218</td>\n",
              "      <td>2</td>\n",
              "    </tr>\n",
              "    <tr>\n",
              "      <th>0</th>\n",
              "      <td>XGBClassifier(base_score=0.5, booster='gbtree'...</td>\n",
              "      <td>0.671697</td>\n",
              "      <td>3</td>\n",
              "    </tr>\n",
              "    <tr>\n",
              "      <th>4</th>\n",
              "      <td>AdaBoostClassifier(algorithm='SAMME.R', base_e...</td>\n",
              "      <td>0.670061</td>\n",
              "      <td>4</td>\n",
              "    </tr>\n",
              "    <tr>\n",
              "      <th>2</th>\n",
              "      <td>RandomForestClassifier(bootstrap=True, ccp_alp...</td>\n",
              "      <td>0.595997</td>\n",
              "      <td>5</td>\n",
              "    </tr>\n",
              "    <tr>\n",
              "      <th>3</th>\n",
              "      <td>SVC(C=1.0, break_ties=False, cache_size=200, c...</td>\n",
              "      <td>0.488846</td>\n",
              "      <td>6</td>\n",
              "    </tr>\n",
              "  </tbody>\n",
              "</table>\n",
              "</div>"
            ],
            "text/plain": [
              "                                           param_clf  ...  rank_test_score\n",
              "1  SGDClassifier(alpha=0.0001, average=False, cla...  ...                1\n",
              "5  LogisticRegression(C=1.0, class_weight=None, d...  ...                2\n",
              "0  XGBClassifier(base_score=0.5, booster='gbtree'...  ...                3\n",
              "4  AdaBoostClassifier(algorithm='SAMME.R', base_e...  ...                4\n",
              "2  RandomForestClassifier(bootstrap=True, ccp_alp...  ...                5\n",
              "3  SVC(C=1.0, break_ties=False, cache_size=200, c...  ...                6\n",
              "\n",
              "[6 rows x 3 columns]"
            ]
          },
          "metadata": {
            "tags": []
          },
          "execution_count": 71
        }
      ]
    },
    {
      "cell_type": "code",
      "metadata": {
        "id": "cc0cIzeu9lZG",
        "colab_type": "code",
        "colab": {}
      },
      "source": [
        "pipe.set_params(**grid.best_params_)\n",
        "pipe.fit(X_train,y_train)\n",
        "y_preds = pipe.predict(X_test)"
      ],
      "execution_count": 0,
      "outputs": []
    },
    {
      "cell_type": "code",
      "metadata": {
        "id": "cOQh8tw79lZR",
        "colab_type": "code",
        "outputId": "5099f049-f2b6-4424-ddf1-e7e9ae419578",
        "colab": {
          "base_uri": "https://localhost:8080/",
          "height": 34
        }
      },
      "source": [
        "print('Accuracy score on test set %.3f' % accuracy_score(y_test, y_preds))"
      ],
      "execution_count": 73,
      "outputs": [
        {
          "output_type": "stream",
          "text": [
            "Accuracy score on test set 0.694\n"
          ],
          "name": "stdout"
        }
      ]
    },
    {
      "cell_type": "markdown",
      "metadata": {
        "id": "OC-_jlkOFICU",
        "colab_type": "text"
      },
      "source": [
        "### 2.1 Feature Influence"
      ]
    },
    {
      "cell_type": "code",
      "metadata": {
        "id": "83QRx4U29lZV",
        "colab_type": "code",
        "colab": {}
      },
      "source": [
        "#get the column names for the vectorizer\n",
        "prep_doc = []\n",
        "for p in preprocessor.transformers_[0][1]['vect'].get_feature_names():\n",
        "    prep_doc.append(p)"
      ],
      "execution_count": 0,
      "outputs": []
    },
    {
      "cell_type": "code",
      "metadata": {
        "id": "xzWlUP1b9lZY",
        "colab_type": "code",
        "colab": {}
      },
      "source": [
        "#get column names for onehot encoding and save into a list\n",
        "prep_doc_oh = preprocessor.transformers_[1][1]['onehot'].get_feature_names().tolist()"
      ],
      "execution_count": 0,
      "outputs": []
    },
    {
      "cell_type": "code",
      "metadata": {
        "id": "d2m1BCcmsg0p",
        "colab_type": "code",
        "colab": {}
      },
      "source": [
        "prep_num = preprocessor.transformers_[2][2]"
      ],
      "execution_count": 0,
      "outputs": []
    },
    {
      "cell_type": "code",
      "metadata": {
        "id": "lSQ9-8iN9lZc",
        "colab_type": "code",
        "colab": {}
      },
      "source": [
        "#combine them in one list\n",
        "prep = prep_doc + prep_doc_oh + prep_num"
      ],
      "execution_count": 0,
      "outputs": []
    },
    {
      "cell_type": "code",
      "metadata": {
        "id": "h_A2DQIFtkKq",
        "colab_type": "code",
        "outputId": "610f3b13-7b06-423d-f10a-7766f407d7ad",
        "colab": {
          "base_uri": "https://localhost:8080/",
          "height": 272
        }
      },
      "source": [
        "!pip install eli5"
      ],
      "execution_count": 78,
      "outputs": [
        {
          "output_type": "stream",
          "text": [
            "Collecting eli5\n",
            "\u001b[?25l  Downloading https://files.pythonhosted.org/packages/97/2f/c85c7d8f8548e460829971785347e14e45fa5c6617da374711dec8cb38cc/eli5-0.10.1-py2.py3-none-any.whl (105kB)\n",
            "\r\u001b[K     |███                             | 10kB 15.9MB/s eta 0:00:01\r\u001b[K     |██████▏                         | 20kB 1.8MB/s eta 0:00:01\r\u001b[K     |█████████▎                      | 30kB 2.4MB/s eta 0:00:01\r\u001b[K     |████████████▍                   | 40kB 2.7MB/s eta 0:00:01\r\u001b[K     |███████████████▌                | 51kB 2.1MB/s eta 0:00:01\r\u001b[K     |██████████████████▋             | 61kB 2.4MB/s eta 0:00:01\r\u001b[K     |█████████████████████▊          | 71kB 2.6MB/s eta 0:00:01\r\u001b[K     |████████████████████████▊       | 81kB 2.8MB/s eta 0:00:01\r\u001b[K     |███████████████████████████▉    | 92kB 3.0MB/s eta 0:00:01\r\u001b[K     |███████████████████████████████ | 102kB 2.9MB/s eta 0:00:01\r\u001b[K     |████████████████████████████████| 112kB 2.9MB/s \n",
            "\u001b[?25hRequirement already satisfied: six in /usr/local/lib/python3.6/dist-packages (from eli5) (1.12.0)\n",
            "Requirement already satisfied: attrs>16.0.0 in /usr/local/lib/python3.6/dist-packages (from eli5) (19.3.0)\n",
            "Requirement already satisfied: tabulate>=0.7.7 in /usr/local/lib/python3.6/dist-packages (from eli5) (0.8.7)\n",
            "Requirement already satisfied: scipy in /usr/local/lib/python3.6/dist-packages (from eli5) (1.4.1)\n",
            "Requirement already satisfied: numpy>=1.9.0 in /usr/local/lib/python3.6/dist-packages (from eli5) (1.18.3)\n",
            "Requirement already satisfied: jinja2 in /usr/local/lib/python3.6/dist-packages (from eli5) (2.11.2)\n",
            "Requirement already satisfied: graphviz in /usr/local/lib/python3.6/dist-packages (from eli5) (0.10.1)\n",
            "Requirement already satisfied: scikit-learn>=0.18 in /usr/local/lib/python3.6/dist-packages (from eli5) (0.22.2.post1)\n",
            "Requirement already satisfied: MarkupSafe>=0.23 in /usr/local/lib/python3.6/dist-packages (from jinja2->eli5) (1.1.1)\n",
            "Requirement already satisfied: joblib>=0.11 in /usr/local/lib/python3.6/dist-packages (from scikit-learn>=0.18->eli5) (0.14.1)\n",
            "Installing collected packages: eli5\n",
            "Successfully installed eli5-0.10.1\n"
          ],
          "name": "stdout"
        }
      ]
    },
    {
      "cell_type": "code",
      "metadata": {
        "id": "nukw6F7K9lZi",
        "colab_type": "code",
        "outputId": "8d5169d3-ebde-4ba3-fc11-290d8bcf821f",
        "colab": {
          "base_uri": "https://localhost:8080/",
          "height": 1000
        }
      },
      "source": [
        "\n",
        "import eli5\n",
        "eli5.show_weights(pipe[1],top = 50, feature_names = prep)"
      ],
      "execution_count": 79,
      "outputs": [
        {
          "output_type": "stream",
          "text": [
            "/usr/local/lib/python3.6/dist-packages/sklearn/utils/deprecation.py:144: FutureWarning: The sklearn.metrics.scorer module is  deprecated in version 0.22 and will be removed in version 0.24. The corresponding classes / functions should instead be imported from sklearn.metrics. Anything that cannot be imported from sklearn.metrics is now part of the private API.\n",
            "  warnings.warn(message, FutureWarning)\n",
            "/usr/local/lib/python3.6/dist-packages/sklearn/utils/deprecation.py:144: FutureWarning: The sklearn.feature_selection.base module is  deprecated in version 0.22 and will be removed in version 0.24. The corresponding classes / functions should instead be imported from sklearn.feature_selection. Anything that cannot be imported from sklearn.feature_selection is now part of the private API.\n",
            "  warnings.warn(message, FutureWarning)\n",
            "Using TensorFlow backend.\n"
          ],
          "name": "stderr"
        },
        {
          "output_type": "execute_result",
          "data": {
            "text/html": [
              "\n",
              "    <style>\n",
              "    table.eli5-weights tr:hover {\n",
              "        filter: brightness(85%);\n",
              "    }\n",
              "</style>\n",
              "\n",
              "\n",
              "\n",
              "    \n",
              "\n",
              "    \n",
              "\n",
              "    \n",
              "\n",
              "    \n",
              "\n",
              "    \n",
              "\n",
              "    \n",
              "\n",
              "\n",
              "    \n",
              "\n",
              "    \n",
              "\n",
              "    \n",
              "\n",
              "    \n",
              "        \n",
              "\n",
              "    \n",
              "\n",
              "        \n",
              "            \n",
              "                \n",
              "                \n",
              "    \n",
              "        <p style=\"margin-bottom: 0.5em; margin-top: 0em\">\n",
              "            <b>\n",
              "    \n",
              "        y=1\n",
              "    \n",
              "</b>\n",
              "\n",
              "top features\n",
              "        </p>\n",
              "    \n",
              "    <table class=\"eli5-weights\"\n",
              "           style=\"border-collapse: collapse; border: none; margin-top: 0em; table-layout: auto; margin-bottom: 2em;\">\n",
              "        <thead>\n",
              "        <tr style=\"border: none;\">\n",
              "            \n",
              "                <th style=\"padding: 0 1em 0 0.5em; text-align: right; border: none;\" title=\"Feature weights. Note that weights do not account for feature value scales, so if feature values have different scales, features with highest weights might not be the most important.\">\n",
              "                    Weight<sup>?</sup>\n",
              "                </th>\n",
              "            \n",
              "            <th style=\"padding: 0 0.5em 0 0.5em; text-align: left; border: none;\">Feature</th>\n",
              "            \n",
              "        </tr>\n",
              "        </thead>\n",
              "        <tbody>\n",
              "        \n",
              "            <tr style=\"background-color: hsl(120, 100.00%, 80.00%); border: none;\">\n",
              "    <td style=\"padding: 0 1em 0 0.5em; text-align: right; border: none;\">\n",
              "        +1.381\n",
              "    </td>\n",
              "    <td style=\"padding: 0 0.5em 0 0.5em; text-align: left; border: none;\">\n",
              "        x1_Tabletop Games\n",
              "    </td>\n",
              "    \n",
              "</tr>\n",
              "        \n",
              "            <tr style=\"background-color: hsl(120, 100.00%, 82.57%); border: none;\">\n",
              "    <td style=\"padding: 0 1em 0 0.5em; text-align: right; border: none;\">\n",
              "        +1.134\n",
              "    </td>\n",
              "    <td style=\"padding: 0 0.5em 0 0.5em; text-align: left; border: none;\">\n",
              "        residency\n",
              "    </td>\n",
              "    \n",
              "</tr>\n",
              "        \n",
              "            <tr style=\"background-color: hsl(120, 100.00%, 83.54%); border: none;\">\n",
              "    <td style=\"padding: 0 1em 0 0.5em; text-align: right; border: none;\">\n",
              "        +1.046\n",
              "    </td>\n",
              "    <td style=\"padding: 0 0.5em 0 0.5em; text-align: left; border: none;\">\n",
              "        pens\n",
              "    </td>\n",
              "    \n",
              "</tr>\n",
              "        \n",
              "            <tr style=\"background-color: hsl(120, 100.00%, 83.85%); border: none;\">\n",
              "    <td style=\"padding: 0 1em 0 0.5em; text-align: right; border: none;\">\n",
              "        +1.017\n",
              "    </td>\n",
              "    <td style=\"padding: 0 0.5em 0 0.5em; text-align: left; border: none;\">\n",
              "        x0_Theater\n",
              "    </td>\n",
              "    \n",
              "</tr>\n",
              "        \n",
              "            <tr style=\"background-color: hsl(120, 100.00%, 83.89%); border: none;\">\n",
              "    <td style=\"padding: 0 1em 0 0.5em; text-align: right; border: none;\">\n",
              "        +1.014\n",
              "    </td>\n",
              "    <td style=\"padding: 0 0.5em 0 0.5em; text-align: left; border: none;\">\n",
              "        x1_Shorts\n",
              "    </td>\n",
              "    \n",
              "</tr>\n",
              "        \n",
              "            <tr style=\"background-color: hsl(120, 100.00%, 84.00%); border: none;\">\n",
              "    <td style=\"padding: 0 1em 0 0.5em; text-align: right; border: none;\">\n",
              "        +1.004\n",
              "    </td>\n",
              "    <td style=\"padding: 0 0.5em 0 0.5em; text-align: left; border: none;\">\n",
              "        watches\n",
              "    </td>\n",
              "    \n",
              "</tr>\n",
              "        \n",
              "            <tr style=\"background-color: hsl(120, 100.00%, 84.46%); border: none;\">\n",
              "    <td style=\"padding: 0 1em 0 0.5em; text-align: right; border: none;\">\n",
              "        +0.963\n",
              "    </td>\n",
              "    <td style=\"padding: 0 0.5em 0 0.5em; text-align: left; border: none;\">\n",
              "        visual novel\n",
              "    </td>\n",
              "    \n",
              "</tr>\n",
              "        \n",
              "            <tr style=\"background-color: hsl(120, 100.00%, 85.00%); border: none;\">\n",
              "    <td style=\"padding: 0 1em 0 0.5em; text-align: right; border: none;\">\n",
              "        +0.916\n",
              "    </td>\n",
              "    <td style=\"padding: 0 0.5em 0 0.5em; text-align: left; border: none;\">\n",
              "        x1_Classical Music\n",
              "    </td>\n",
              "    \n",
              "</tr>\n",
              "        \n",
              "            <tr style=\"background-color: hsl(120, 100.00%, 85.11%); border: none;\">\n",
              "    <td style=\"padding: 0 1em 0 0.5em; text-align: right; border: none;\">\n",
              "        +0.906\n",
              "    </td>\n",
              "    <td style=\"padding: 0 0.5em 0 0.5em; text-align: left; border: none;\">\n",
              "        zine\n",
              "    </td>\n",
              "    \n",
              "</tr>\n",
              "        \n",
              "            <tr style=\"background-color: hsl(120, 100.00%, 85.48%); border: none;\">\n",
              "    <td style=\"padding: 0 1em 0 0.5em; text-align: right; border: none;\">\n",
              "        +0.874\n",
              "    </td>\n",
              "    <td style=\"padding: 0 0.5em 0 0.5em; text-align: left; border: none;\">\n",
              "        titanium\n",
              "    </td>\n",
              "    \n",
              "</tr>\n",
              "        \n",
              "            <tr style=\"background-color: hsl(120, 100.00%, 85.79%); border: none;\">\n",
              "    <td style=\"padding: 0 1em 0 0.5em; text-align: right; border: none;\">\n",
              "        +0.848\n",
              "    </td>\n",
              "    <td style=\"padding: 0 0.5em 0 0.5em; text-align: left; border: none;\">\n",
              "        exhibition\n",
              "    </td>\n",
              "    \n",
              "</tr>\n",
              "        \n",
              "            <tr style=\"background-color: hsl(120, 100.00%, 85.85%); border: none;\">\n",
              "    <td style=\"padding: 0 1em 0 0.5em; text-align: right; border: none;\">\n",
              "        +0.842\n",
              "    </td>\n",
              "    <td style=\"padding: 0 0.5em 0 0.5em; text-align: left; border: none;\">\n",
              "        arctic\n",
              "    </td>\n",
              "    \n",
              "</tr>\n",
              "        \n",
              "            <tr style=\"background-color: hsl(120, 100.00%, 86.41%); border: none;\">\n",
              "    <td style=\"padding: 0 1em 0 0.5em; text-align: right; border: none;\">\n",
              "        +0.795\n",
              "    </td>\n",
              "    <td style=\"padding: 0 0.5em 0 0.5em; text-align: left; border: none;\">\n",
              "        smallest\n",
              "    </td>\n",
              "    \n",
              "</tr>\n",
              "        \n",
              "            <tr style=\"background-color: hsl(120, 100.00%, 86.48%); border: none;\">\n",
              "    <td style=\"padding: 0 1em 0 0.5em; text-align: right; border: none;\">\n",
              "        +0.789\n",
              "    </td>\n",
              "    <td style=\"padding: 0 0.5em 0 0.5em; text-align: left; border: none;\">\n",
              "        cthulhu\n",
              "    </td>\n",
              "    \n",
              "</tr>\n",
              "        \n",
              "            <tr style=\"background-color: hsl(120, 100.00%, 86.50%); border: none;\">\n",
              "    <td style=\"padding: 0 1em 0 0.5em; text-align: right; border: none;\">\n",
              "        +0.788\n",
              "    </td>\n",
              "    <td style=\"padding: 0 0.5em 0 0.5em; text-align: left; border: none;\">\n",
              "        thesis\n",
              "    </td>\n",
              "    \n",
              "</tr>\n",
              "        \n",
              "            <tr style=\"background-color: hsl(120, 100.00%, 86.64%); border: none;\">\n",
              "    <td style=\"padding: 0 1em 0 0.5em; text-align: right; border: none;\">\n",
              "        +0.776\n",
              "    </td>\n",
              "    <td style=\"padding: 0 0.5em 0 0.5em; text-align: left; border: none;\">\n",
              "        reinvented\n",
              "    </td>\n",
              "    \n",
              "</tr>\n",
              "        \n",
              "            <tr style=\"background-color: hsl(120, 100.00%, 87.28%); border: none;\">\n",
              "    <td style=\"padding: 0 1em 0 0.5em; text-align: right; border: none;\">\n",
              "        +0.723\n",
              "    </td>\n",
              "    <td style=\"padding: 0 0.5em 0 0.5em; text-align: left; border: none;\">\n",
              "        installation\n",
              "    </td>\n",
              "    \n",
              "</tr>\n",
              "        \n",
              "            <tr style=\"background-color: hsl(120, 100.00%, 87.35%); border: none;\">\n",
              "    <td style=\"padding: 0 1em 0 0.5em; text-align: right; border: none;\">\n",
              "        +0.718\n",
              "    </td>\n",
              "    <td style=\"padding: 0 0.5em 0 0.5em; text-align: left; border: none;\">\n",
              "        x1_Anthologies\n",
              "    </td>\n",
              "    \n",
              "</tr>\n",
              "        \n",
              "            <tr style=\"background-color: hsl(120, 100.00%, 87.40%); border: none;\">\n",
              "    <td style=\"padding: 0 1em 0 0.5em; text-align: right; border: none;\">\n",
              "        +0.714\n",
              "    </td>\n",
              "    <td style=\"padding: 0 0.5em 0 0.5em; text-align: left; border: none;\">\n",
              "        x1_Camera Equipment\n",
              "    </td>\n",
              "    \n",
              "</tr>\n",
              "        \n",
              "            <tr style=\"background-color: hsl(120, 100.00%, 87.42%); border: none;\">\n",
              "    <td style=\"padding: 0 1em 0 0.5em; text-align: right; border: none;\">\n",
              "        +0.712\n",
              "    </td>\n",
              "    <td style=\"padding: 0 0.5em 0 0.5em; text-align: left; border: none;\">\n",
              "        playing cards\n",
              "    </td>\n",
              "    \n",
              "</tr>\n",
              "        \n",
              "            <tr style=\"background-color: hsl(120, 100.00%, 87.44%); border: none;\">\n",
              "    <td style=\"padding: 0 1em 0 0.5em; text-align: right; border: none;\">\n",
              "        +0.710\n",
              "    </td>\n",
              "    <td style=\"padding: 0 0.5em 0 0.5em; text-align: left; border: none;\">\n",
              "        sxsw\n",
              "    </td>\n",
              "    \n",
              "</tr>\n",
              "        \n",
              "            <tr style=\"background-color: hsl(120, 100.00%, 87.54%); border: none;\">\n",
              "    <td style=\"padding: 0 1em 0 0.5em; text-align: right; border: none;\">\n",
              "        +0.703\n",
              "    </td>\n",
              "    <td style=\"padding: 0 0.5em 0 0.5em; text-align: left; border: none;\">\n",
              "        burning man\n",
              "    </td>\n",
              "    \n",
              "</tr>\n",
              "        \n",
              "            <tr style=\"background-color: hsl(120, 100.00%, 87.56%); border: none;\">\n",
              "    <td style=\"padding: 0 1em 0 0.5em; text-align: right; border: none;\">\n",
              "        +0.701\n",
              "    </td>\n",
              "    <td style=\"padding: 0 0.5em 0 0.5em; text-align: left; border: none;\">\n",
              "        volume\n",
              "    </td>\n",
              "    \n",
              "</tr>\n",
              "        \n",
              "            <tr style=\"background-color: hsl(120, 100.00%, 87.65%); border: none;\">\n",
              "    <td style=\"padding: 0 1em 0 0.5em; text-align: right; border: none;\">\n",
              "        +0.693\n",
              "    </td>\n",
              "    <td style=\"padding: 0 0.5em 0 0.5em; text-align: left; border: none;\">\n",
              "        anthology\n",
              "    </td>\n",
              "    \n",
              "</tr>\n",
              "        \n",
              "            <tr style=\"background-color: hsl(120, 100.00%, 87.75%); border: none;\">\n",
              "    <td style=\"padding: 0 1em 0 0.5em; text-align: right; border: none;\">\n",
              "        +0.686\n",
              "    </td>\n",
              "    <td style=\"padding: 0 0.5em 0 0.5em; text-align: left; border: none;\">\n",
              "        letterpress\n",
              "    </td>\n",
              "    \n",
              "</tr>\n",
              "        \n",
              "            <tr style=\"background-color: hsl(120, 100.00%, 87.96%); border: none;\">\n",
              "    <td style=\"padding: 0 1em 0 0.5em; text-align: right; border: none;\">\n",
              "        +0.669\n",
              "    </td>\n",
              "    <td style=\"padding: 0 0.5em 0 0.5em; text-align: left; border: none;\">\n",
              "        python\n",
              "    </td>\n",
              "    \n",
              "</tr>\n",
              "        \n",
              "            <tr style=\"background-color: hsl(120, 100.00%, 87.96%); border: none;\">\n",
              "    <td style=\"padding: 0 1em 0 0.5em; text-align: right; border: none;\">\n",
              "        +0.669\n",
              "    </td>\n",
              "    <td style=\"padding: 0 0.5em 0 0.5em; text-align: left; border: none;\">\n",
              "        x1_Dance\n",
              "    </td>\n",
              "    \n",
              "</tr>\n",
              "        \n",
              "            <tr style=\"background-color: hsl(120, 100.00%, 88.03%); border: none;\">\n",
              "    <td style=\"padding: 0 1em 0 0.5em; text-align: right; border: none;\">\n",
              "        +0.663\n",
              "    </td>\n",
              "    <td style=\"padding: 0 0.5em 0 0.5em; text-align: left; border: none;\">\n",
              "        x1_Art Books\n",
              "    </td>\n",
              "    \n",
              "</tr>\n",
              "        \n",
              "            <tr style=\"background-color: hsl(120, 100.00%, 88.03%); border: none;\">\n",
              "    <td style=\"padding: 0 1em 0 0.5em; text-align: right; border: none;\">\n",
              "        +0.663\n",
              "    </td>\n",
              "    <td style=\"padding: 0 0.5em 0 0.5em; text-align: left; border: none;\">\n",
              "        pen\n",
              "    </td>\n",
              "    \n",
              "</tr>\n",
              "        \n",
              "            <tr style=\"background-color: hsl(120, 100.00%, 88.13%); border: none;\">\n",
              "    <td style=\"padding: 0 1em 0 0.5em; text-align: right; border: none;\">\n",
              "        +0.656\n",
              "    </td>\n",
              "    <td style=\"padding: 0 0.5em 0 0.5em; text-align: left; border: none;\">\n",
              "        world best\n",
              "    </td>\n",
              "    \n",
              "</tr>\n",
              "        \n",
              "            <tr style=\"background-color: hsl(120, 100.00%, 88.22%); border: none;\">\n",
              "    <td style=\"padding: 0 1em 0 0.5em; text-align: right; border: none;\">\n",
              "        +0.648\n",
              "    </td>\n",
              "    <td style=\"padding: 0 0.5em 0 0.5em; text-align: left; border: none;\">\n",
              "        relaunch\n",
              "    </td>\n",
              "    \n",
              "</tr>\n",
              "        \n",
              "            <tr style=\"background-color: hsl(120, 100.00%, 88.32%); border: none;\">\n",
              "    <td style=\"padding: 0 1em 0 0.5em; text-align: right; border: none;\">\n",
              "        +0.641\n",
              "    </td>\n",
              "    <td style=\"padding: 0 0.5em 0 0.5em; text-align: left; border: none;\">\n",
              "        x1_Performances\n",
              "    </td>\n",
              "    \n",
              "</tr>\n",
              "        \n",
              "            <tr style=\"background-color: hsl(120, 100.00%, 88.32%); border: none;\">\n",
              "    <td style=\"padding: 0 1em 0 0.5em; text-align: right; border: none;\">\n",
              "        +0.641\n",
              "    </td>\n",
              "    <td style=\"padding: 0 0.5em 0 0.5em; text-align: left; border: none;\">\n",
              "        x1_Jazz\n",
              "    </td>\n",
              "    \n",
              "</tr>\n",
              "        \n",
              "            <tr style=\"background-color: hsl(120, 100.00%, 88.34%); border: none;\">\n",
              "    <td style=\"padding: 0 1em 0 0.5em; text-align: right; border: none;\">\n",
              "        +0.639\n",
              "    </td>\n",
              "    <td style=\"padding: 0 0.5em 0 0.5em; text-align: left; border: none;\">\n",
              "        dress\n",
              "    </td>\n",
              "    \n",
              "</tr>\n",
              "        \n",
              "            <tr style=\"background-color: hsl(120, 100.00%, 88.39%); border: none;\">\n",
              "    <td style=\"padding: 0 1em 0 0.5em; text-align: right; border: none;\">\n",
              "        +0.635\n",
              "    </td>\n",
              "    <td style=\"padding: 0 0.5em 0 0.5em; text-align: left; border: none;\">\n",
              "        tarot\n",
              "    </td>\n",
              "    \n",
              "</tr>\n",
              "        \n",
              "            <tr style=\"background-color: hsl(120, 100.00%, 88.42%); border: none;\">\n",
              "    <td style=\"padding: 0 1em 0 0.5em; text-align: right; border: none;\">\n",
              "        +0.633\n",
              "    </td>\n",
              "    <td style=\"padding: 0 0.5em 0 0.5em; text-align: left; border: none;\">\n",
              "        lovecraft\n",
              "    </td>\n",
              "    \n",
              "</tr>\n",
              "        \n",
              "            <tr style=\"background-color: hsl(120, 100.00%, 88.49%); border: none;\">\n",
              "    <td style=\"padding: 0 1em 0 0.5em; text-align: right; border: none;\">\n",
              "        +0.627\n",
              "    </td>\n",
              "    <td style=\"padding: 0 0.5em 0 0.5em; text-align: left; border: none;\">\n",
              "        degree\n",
              "    </td>\n",
              "    \n",
              "</tr>\n",
              "        \n",
              "            <tr style=\"background-color: hsl(120, 100.00%, 88.49%); border: none;\">\n",
              "    <td style=\"padding: 0 1em 0 0.5em; text-align: right; border: none;\">\n",
              "        +0.627\n",
              "    </td>\n",
              "    <td style=\"padding: 0 0.5em 0 0.5em; text-align: left; border: none;\">\n",
              "        x0_Dance\n",
              "    </td>\n",
              "    \n",
              "</tr>\n",
              "        \n",
              "            <tr style=\"background-color: hsl(120, 100.00%, 88.49%); border: none;\">\n",
              "    <td style=\"padding: 0 1em 0 0.5em; text-align: right; border: none;\">\n",
              "        +0.627\n",
              "    </td>\n",
              "    <td style=\"padding: 0 0.5em 0 0.5em; text-align: left; border: none;\">\n",
              "        camera\n",
              "    </td>\n",
              "    \n",
              "</tr>\n",
              "        \n",
              "            <tr style=\"background-color: hsl(120, 100.00%, 88.49%); border: none;\">\n",
              "    <td style=\"padding: 0 1em 0 0.5em; text-align: right; border: none;\">\n",
              "        +0.627\n",
              "    </td>\n",
              "    <td style=\"padding: 0 0.5em 0 0.5em; text-align: left; border: none;\">\n",
              "        headphones\n",
              "    </td>\n",
              "    \n",
              "</tr>\n",
              "        \n",
              "            <tr style=\"background-color: hsl(120, 100.00%, 88.51%); border: none;\">\n",
              "    <td style=\"padding: 0 1em 0 0.5em; text-align: right; border: none;\">\n",
              "        +0.626\n",
              "    </td>\n",
              "    <td style=\"padding: 0 0.5em 0 0.5em; text-align: left; border: none;\">\n",
              "        3d printer\n",
              "    </td>\n",
              "    \n",
              "</tr>\n",
              "        \n",
              "            <tr style=\"background-color: hsl(120, 100.00%, 88.51%); border: none;\">\n",
              "    <td style=\"padding: 0 1em 0 0.5em; text-align: right; border: none;\">\n",
              "        +0.626\n",
              "    </td>\n",
              "    <td style=\"padding: 0 0.5em 0 0.5em; text-align: left; border: none;\">\n",
              "        stretch\n",
              "    </td>\n",
              "    \n",
              "</tr>\n",
              "        \n",
              "            <tr style=\"background-color: hsl(120, 100.00%, 88.58%); border: none;\">\n",
              "    <td style=\"padding: 0 1em 0 0.5em; text-align: right; border: none;\">\n",
              "        +0.620\n",
              "    </td>\n",
              "    <td style=\"padding: 0 0.5em 0 0.5em; text-align: left; border: none;\">\n",
              "        mural\n",
              "    </td>\n",
              "    \n",
              "</tr>\n",
              "        \n",
              "        \n",
              "            <tr style=\"background-color: hsl(120, 100.00%, 88.58%); border: none;\">\n",
              "                <td colspan=\"2\" style=\"padding: 0 0.5em 0 0.5em; text-align: center; border: none; white-space: nowrap;\">\n",
              "                    <i>&hellip; 312835 more positive &hellip;</i>\n",
              "                </td>\n",
              "            </tr>\n",
              "        \n",
              "\n",
              "        \n",
              "            <tr style=\"background-color: hsl(0, 100.00%, 87.82%); border: none;\">\n",
              "                <td colspan=\"2\" style=\"padding: 0 0.5em 0 0.5em; text-align: center; border: none; white-space: nowrap;\">\n",
              "                    <i>&hellip; 346251 more negative &hellip;</i>\n",
              "                </td>\n",
              "            </tr>\n",
              "        \n",
              "        \n",
              "            <tr style=\"background-color: hsl(0, 100.00%, 87.82%); border: none;\">\n",
              "    <td style=\"padding: 0 1em 0 0.5em; text-align: right; border: none;\">\n",
              "        -0.680\n",
              "    </td>\n",
              "    <td style=\"padding: 0 0.5em 0 0.5em; text-align: left; border: none;\">\n",
              "        chess\n",
              "    </td>\n",
              "    \n",
              "</tr>\n",
              "        \n",
              "            <tr style=\"background-color: hsl(0, 100.00%, 87.77%); border: none;\">\n",
              "    <td style=\"padding: 0 1em 0 0.5em; text-align: right; border: none;\">\n",
              "        -0.684\n",
              "    </td>\n",
              "    <td style=\"padding: 0 0.5em 0 0.5em; text-align: left; border: none;\">\n",
              "        x1_R&amp;B\n",
              "    </td>\n",
              "    \n",
              "</tr>\n",
              "        \n",
              "            <tr style=\"background-color: hsl(0, 100.00%, 87.65%); border: none;\">\n",
              "    <td style=\"padding: 0 1em 0 0.5em; text-align: right; border: none;\">\n",
              "        -0.693\n",
              "    </td>\n",
              "    <td style=\"padding: 0 0.5em 0 0.5em; text-align: left; border: none;\">\n",
              "        manga\n",
              "    </td>\n",
              "    \n",
              "</tr>\n",
              "        \n",
              "            <tr style=\"background-color: hsl(0, 100.00%, 87.61%); border: none;\">\n",
              "    <td style=\"padding: 0 1em 0 0.5em; text-align: right; border: none;\">\n",
              "        -0.697\n",
              "    </td>\n",
              "    <td style=\"padding: 0 0.5em 0 0.5em; text-align: left; border: none;\">\n",
              "        to record\n",
              "    </td>\n",
              "    \n",
              "</tr>\n",
              "        \n",
              "            <tr style=\"background-color: hsl(0, 100.00%, 85.48%); border: none;\">\n",
              "    <td style=\"padding: 0 1em 0 0.5em; text-align: right; border: none;\">\n",
              "        -0.874\n",
              "    </td>\n",
              "    <td style=\"padding: 0 0.5em 0 0.5em; text-align: left; border: none;\">\n",
              "        stage play\n",
              "    </td>\n",
              "    \n",
              "</tr>\n",
              "        \n",
              "            <tr style=\"background-color: hsl(0, 100.00%, 83.64%); border: none;\">\n",
              "    <td style=\"padding: 0 1em 0 0.5em; text-align: right; border: none;\">\n",
              "        -1.036\n",
              "    </td>\n",
              "    <td style=\"padding: 0 0.5em 0 0.5em; text-align: left; border: none;\">\n",
              "        x1_Hip-Hop\n",
              "    </td>\n",
              "    \n",
              "</tr>\n",
              "        \n",
              "            <tr style=\"background-color: hsl(0, 100.00%, 83.52%); border: none;\">\n",
              "    <td style=\"padding: 0 1em 0 0.5em; text-align: right; border: none;\">\n",
              "        -1.048\n",
              "    </td>\n",
              "    <td style=\"padding: 0 0.5em 0 0.5em; text-align: left; border: none;\">\n",
              "        &lt;BIAS&gt;\n",
              "    </td>\n",
              "    \n",
              "</tr>\n",
              "        \n",
              "\n",
              "        </tbody>\n",
              "    </table>\n",
              "\n",
              "            \n",
              "        \n",
              "\n",
              "        \n",
              "\n",
              "\n",
              "\n",
              "    \n",
              "\n",
              "    \n",
              "\n",
              "    \n",
              "\n",
              "    \n",
              "\n",
              "\n",
              "    \n",
              "\n",
              "    \n",
              "\n",
              "    \n",
              "\n",
              "    \n",
              "\n",
              "    \n",
              "\n",
              "    \n",
              "\n",
              "\n",
              "    \n",
              "\n",
              "    \n",
              "\n",
              "    \n",
              "\n",
              "    \n",
              "\n",
              "    \n",
              "\n",
              "    \n",
              "\n",
              "\n",
              "\n"
            ],
            "text/plain": [
              "<IPython.core.display.HTML object>"
            ]
          },
          "metadata": {
            "tags": []
          },
          "execution_count": 79
        }
      ]
    },
    {
      "cell_type": "markdown",
      "metadata": {
        "id": "Qoj0z2sOJb13",
        "colab_type": "text"
      },
      "source": [
        "###2.2 Precision and Recall "
      ]
    },
    {
      "cell_type": "code",
      "metadata": {
        "id": "ilrgDhPQIRcr",
        "colab_type": "code",
        "outputId": "88054b0c-691b-4ffd-d1ab-036a2894a1a8",
        "colab": {
          "base_uri": "https://localhost:8080/",
          "height": 204
        }
      },
      "source": [
        "from sklearn.metrics import classification_report\n",
        "from sklearn.metrics import confusion_matrix\n",
        "print(confusion_matrix(y_test, y_preds, labels=range(2)))\n",
        "print(classification_report(y_test, y_preds, target_names=['failed','successful']))"
      ],
      "execution_count": 80,
      "outputs": [
        {
          "output_type": "stream",
          "text": [
            "[[33171  6405]\n",
            " [13874 12885]]\n",
            "              precision    recall  f1-score   support\n",
            "\n",
            "      failed       0.71      0.84      0.77     39576\n",
            "  successful       0.67      0.48      0.56     26759\n",
            "\n",
            "    accuracy                           0.69     66335\n",
            "   macro avg       0.69      0.66      0.66     66335\n",
            "weighted avg       0.69      0.69      0.68     66335\n",
            "\n"
          ],
          "name": "stdout"
        }
      ]
    },
    {
      "cell_type": "markdown",
      "metadata": {
        "id": "PvH0wXK9J1yl",
        "colab_type": "text"
      },
      "source": [
        "Low recall for successful - more likely to predict that the result is success compared to actual success. \n"
      ]
    },
    {
      "cell_type": "markdown",
      "metadata": {
        "id": "1emM0TH09lZz",
        "colab_type": "text"
      },
      "source": [
        "## 3.HyperParametrization"
      ]
    },
    {
      "cell_type": "markdown",
      "metadata": {
        "id": "ALKV28lDFce4",
        "colab_type": "text"
      },
      "source": [
        "Since SGC classifier has performed the best, we are looking at whether we can fine tune it."
      ]
    },
    {
      "cell_type": "code",
      "metadata": {
        "id": "Qb57MQ5M9lZ2",
        "colab_type": "code",
        "colab": {}
      },
      "source": [
        "search_space_sgd= [{ 'clf': [linear_model.SGDClassifier()],\n",
        "                 'clf__l1_ratio':[0.1,0.5,0.7],\n",
        "                 'clf__penalty':['l1','l2','elasticnet'],\n",
        "                 'clf__alpha': [0.0001,0.01,0.05,0.5,1]}\n",
        "                                ]"
      ],
      "execution_count": 0,
      "outputs": []
    },
    {
      "cell_type": "code",
      "metadata": {
        "id": "6ZMioFc-ycR8",
        "colab_type": "code",
        "outputId": "34d44571-1dc9-4904-e157-4ff598e4e050",
        "colab": {
          "base_uri": "https://localhost:8080/",
          "height": 54
        }
      },
      "source": [
        "pipe.get_params().keys()"
      ],
      "execution_count": 82,
      "outputs": [
        {
          "output_type": "execute_result",
          "data": {
            "text/plain": [
              "dict_keys(['memory', 'steps', 'verbose', 'preprocessor', 'clf', 'preprocessor__n_jobs', 'preprocessor__remainder', 'preprocessor__sparse_threshold', 'preprocessor__transformer_weights', 'preprocessor__transformers', 'preprocessor__verbose', 'preprocessor__vect', 'preprocessor__cat', 'preprocessor__num', 'preprocessor__vect__memory', 'preprocessor__vect__steps', 'preprocessor__vect__verbose', 'preprocessor__vect__vect', 'preprocessor__vect__vect__analyzer', 'preprocessor__vect__vect__binary', 'preprocessor__vect__vect__decode_error', 'preprocessor__vect__vect__dtype', 'preprocessor__vect__vect__encoding', 'preprocessor__vect__vect__input', 'preprocessor__vect__vect__lowercase', 'preprocessor__vect__vect__max_df', 'preprocessor__vect__vect__max_features', 'preprocessor__vect__vect__min_df', 'preprocessor__vect__vect__ngram_range', 'preprocessor__vect__vect__preprocessor', 'preprocessor__vect__vect__stop_words', 'preprocessor__vect__vect__strip_accents', 'preprocessor__vect__vect__token_pattern', 'preprocessor__vect__vect__tokenizer', 'preprocessor__vect__vect__vocabulary', 'preprocessor__cat__memory', 'preprocessor__cat__steps', 'preprocessor__cat__verbose', 'preprocessor__cat__onehot', 'preprocessor__cat__onehot__categories', 'preprocessor__cat__onehot__drop', 'preprocessor__cat__onehot__dtype', 'preprocessor__cat__onehot__handle_unknown', 'preprocessor__cat__onehot__sparse', 'preprocessor__num__memory', 'preprocessor__num__steps', 'preprocessor__num__verbose', 'preprocessor__num__scaler', 'preprocessor__num__scaler__copy', 'preprocessor__num__scaler__with_mean', 'preprocessor__num__scaler__with_std', 'clf__alpha', 'clf__average', 'clf__class_weight', 'clf__early_stopping', 'clf__epsilon', 'clf__eta0', 'clf__fit_intercept', 'clf__l1_ratio', 'clf__learning_rate', 'clf__loss', 'clf__max_iter', 'clf__n_iter_no_change', 'clf__n_jobs', 'clf__penalty', 'clf__power_t', 'clf__random_state', 'clf__shuffle', 'clf__tol', 'clf__validation_fraction', 'clf__verbose', 'clf__warm_start'])"
            ]
          },
          "metadata": {
            "tags": []
          },
          "execution_count": 82
        }
      ]
    },
    {
      "cell_type": "code",
      "metadata": {
        "id": "WjIc6t-N9lZ5",
        "colab_type": "code",
        "outputId": "86c85220-c4b3-492a-ce0d-06d4e074a3d6",
        "colab": {
          "base_uri": "https://localhost:8080/",
          "height": 867
        }
      },
      "source": [
        "grid_sgd = GridSearchCV(pipe, cv=5, param_grid=search_space_sgd,error_score = 0,verbose = 10,n_jobs = -1)\n",
        "grid_sgd.fit(X_train,y_train)"
      ],
      "execution_count": 83,
      "outputs": [
        {
          "output_type": "stream",
          "text": [
            "Fitting 5 folds for each of 45 candidates, totalling 225 fits\n"
          ],
          "name": "stdout"
        },
        {
          "output_type": "stream",
          "text": [
            "[Parallel(n_jobs=-1)]: Using backend LokyBackend with 2 concurrent workers.\n",
            "[Parallel(n_jobs=-1)]: Done   1 tasks      | elapsed:   14.2s\n",
            "[Parallel(n_jobs=-1)]: Done   4 tasks      | elapsed:   29.0s\n",
            "[Parallel(n_jobs=-1)]: Done   9 tasks      | elapsed:  1.2min\n",
            "[Parallel(n_jobs=-1)]: Done  14 tasks      | elapsed:  1.7min\n",
            "[Parallel(n_jobs=-1)]: Done  21 tasks      | elapsed:  2.6min\n",
            "[Parallel(n_jobs=-1)]: Done  28 tasks      | elapsed:  3.3min\n",
            "[Parallel(n_jobs=-1)]: Done  37 tasks      | elapsed:  4.4min\n",
            "[Parallel(n_jobs=-1)]: Done  46 tasks      | elapsed:  5.4min\n",
            "[Parallel(n_jobs=-1)]: Done  57 tasks      | elapsed:  6.6min\n",
            "[Parallel(n_jobs=-1)]: Done  68 tasks      | elapsed:  7.7min\n",
            "[Parallel(n_jobs=-1)]: Done  81 tasks      | elapsed:  9.1min\n",
            "[Parallel(n_jobs=-1)]: Done  94 tasks      | elapsed: 10.4min\n",
            "[Parallel(n_jobs=-1)]: Done 109 tasks      | elapsed: 12.0min\n",
            "[Parallel(n_jobs=-1)]: Done 124 tasks      | elapsed: 13.4min\n",
            "[Parallel(n_jobs=-1)]: Done 141 tasks      | elapsed: 15.3min\n",
            "[Parallel(n_jobs=-1)]: Done 158 tasks      | elapsed: 16.9min\n",
            "[Parallel(n_jobs=-1)]: Done 177 tasks      | elapsed: 18.9min\n",
            "[Parallel(n_jobs=-1)]: Done 196 tasks      | elapsed: 20.8min\n",
            "[Parallel(n_jobs=-1)]: Done 217 tasks      | elapsed: 22.9min\n",
            "[Parallel(n_jobs=-1)]: Done 225 out of 225 | elapsed: 23.6min finished\n"
          ],
          "name": "stderr"
        },
        {
          "output_type": "execute_result",
          "data": {
            "text/plain": [
              "GridSearchCV(cv=5, error_score=0,\n",
              "             estimator=Pipeline(memory=None,\n",
              "                                steps=[('preprocessor',\n",
              "                                        ColumnTransformer(n_jobs=None,\n",
              "                                                          remainder='drop',\n",
              "                                                          sparse_threshold=0.3,\n",
              "                                                          transformer_weights=None,\n",
              "                                                          transformers=[('vect',\n",
              "                                                                         Pipeline(memory=None,\n",
              "                                                                                  steps=[('vect',\n",
              "                                                                                          CountVectorizer(analyzer='word',\n",
              "                                                                                                          binary=False,\n",
              "                                                                                                          decode_error='strict',\n",
              "                                                                                                          dtype=<class 'numpy.int64'>,\n",
              "                                                                                                          encoding='utf-8',\n",
              "                                                                                                          in...\n",
              "                                                loss='hinge', max_iter=1000,\n",
              "                                                n_iter_no_change=5, n_jobs=None,\n",
              "                                                penalty='l2', power_t=0.5,\n",
              "                                                random_state=None, shuffle=True,\n",
              "                                                tol=0.001,\n",
              "                                                validation_fraction=0.1,\n",
              "                                                verbose=0, warm_start=False)],\n",
              "                          'clf__alpha': [0.0001, 0.01, 0.05, 0.5, 1],\n",
              "                          'clf__l1_ratio': [0.1, 0.5, 0.7],\n",
              "                          'clf__penalty': ['l1', 'l2', 'elasticnet']}],\n",
              "             pre_dispatch='2*n_jobs', refit=True, return_train_score=False,\n",
              "             scoring=None, verbose=10)"
            ]
          },
          "metadata": {
            "tags": []
          },
          "execution_count": 83
        }
      ]
    },
    {
      "cell_type": "code",
      "metadata": {
        "id": "g1S_AHG-yW_g",
        "colab_type": "code",
        "colab": {}
      },
      "source": [
        ""
      ],
      "execution_count": 0,
      "outputs": []
    },
    {
      "cell_type": "code",
      "metadata": {
        "id": "LMqUo5ed9lZ-",
        "colab_type": "code",
        "outputId": "92a710b2-8caa-4898-835b-6a6b11253066",
        "colab": {
          "base_uri": "https://localhost:8080/",
          "height": 119
        }
      },
      "source": [
        "print(\"Best: %f using %s\" % (grid_sgd.best_score_, \n",
        "    grid_sgd.best_params_))"
      ],
      "execution_count": 84,
      "outputs": [
        {
          "output_type": "stream",
          "text": [
            "Best: 0.695071 using {'clf': SGDClassifier(alpha=0.0001, average=False, class_weight=None,\n",
            "              early_stopping=False, epsilon=0.1, eta0=0.0, fit_intercept=True,\n",
            "              l1_ratio=0.1, learning_rate='optimal', loss='hinge',\n",
            "              max_iter=1000, n_iter_no_change=5, n_jobs=None, penalty='l2',\n",
            "              power_t=0.5, random_state=None, shuffle=True, tol=0.001,\n",
            "              validation_fraction=0.1, verbose=0, warm_start=False), 'clf__alpha': 0.0001, 'clf__l1_ratio': 0.1, 'clf__penalty': 'l2'}\n"
          ],
          "name": "stdout"
        }
      ]
    },
    {
      "cell_type": "code",
      "metadata": {
        "id": "lH-EtanW9laE",
        "colab_type": "code",
        "colab": {}
      },
      "source": [
        "pipe.set_params(**grid_sgd.best_params_)\n",
        "pipe.fit(X_train,y_train)\n",
        "y_preds = pipe.predict(X_test)"
      ],
      "execution_count": 0,
      "outputs": []
    },
    {
      "cell_type": "code",
      "metadata": {
        "id": "-d5sCCQn9laI",
        "colab_type": "code",
        "outputId": "d650d624-4b4b-4747-9a12-5a4c98040472",
        "colab": {
          "base_uri": "https://localhost:8080/",
          "height": 34
        }
      },
      "source": [
        "print('Accuracy score on test set %.3f' % accuracy_score(y_test, y_preds))"
      ],
      "execution_count": 86,
      "outputs": [
        {
          "output_type": "stream",
          "text": [
            "Accuracy score on test set 0.695\n"
          ],
          "name": "stdout"
        }
      ]
    },
    {
      "cell_type": "markdown",
      "metadata": {
        "id": "rA3ecUzvGFnH",
        "colab_type": "text"
      },
      "source": [
        "The hyperparametrizied model has same accuracy as the baseline model therefore we stick with baseline model."
      ]
    },
    {
      "cell_type": "markdown",
      "metadata": {
        "id": "KHu7ceZE9la5",
        "colab_type": "text"
      },
      "source": [
        "## 4.Stacking Model"
      ]
    },
    {
      "cell_type": "code",
      "metadata": {
        "id": "ZJHzMcpo9la6",
        "colab_type": "code",
        "colab": {}
      },
      "source": [
        " estimators = [\n",
        "               ('xgb', xgb.XGBClassifier()),\n",
        "                ('ada', AdaBoostClassifier())]\n",
        "               \n"
      ],
      "execution_count": 0,
      "outputs": []
    },
    {
      "cell_type": "code",
      "metadata": {
        "id": "nYXUYlCq9la_",
        "colab_type": "code",
        "colab": {}
      },
      "source": [
        "stack = StackingClassifier(estimators=estimators, final_estimator=linear_model.SGDClassifier(max_iter=500, tol=1e-3))\n",
        "\n"
      ],
      "execution_count": 0,
      "outputs": []
    },
    {
      "cell_type": "code",
      "metadata": {
        "id": "Jba9jXbv9lbD",
        "colab_type": "code",
        "colab": {}
      },
      "source": [
        "pipe_stack = Pipeline(steps=[('preprocessor', preprocessor),\n",
        "                      ('stack', stack)])"
      ],
      "execution_count": 0,
      "outputs": []
    },
    {
      "cell_type": "code",
      "metadata": {
        "id": "isChd_MV9lbN",
        "colab_type": "code",
        "colab": {}
      },
      "source": [
        "pgrid = [{'preprocessor__vect__vect__ngram_range': ((1, 1),(1, 2))}]"
      ],
      "execution_count": 0,
      "outputs": []
    },
    {
      "cell_type": "code",
      "metadata": {
        "id": "FpITUCA69lbY",
        "colab_type": "code",
        "outputId": "166ebad2-5829-4ad2-a132-92137155c99f",
        "colab": {
          "base_uri": "https://localhost:8080/",
          "height": 663
        }
      },
      "source": [
        "grid_st = GridSearchCV(pipe_stack, cv=3,param_grid = pgrid,error_score = 0, verbose = 10,n_jobs = -1)\n",
        "grid_st.fit(X_train,y_train)"
      ],
      "execution_count": 35,
      "outputs": [
        {
          "output_type": "stream",
          "text": [
            "Fitting 3 folds for each of 2 candidates, totalling 6 fits\n"
          ],
          "name": "stdout"
        },
        {
          "output_type": "stream",
          "text": [
            "[Parallel(n_jobs=-1)]: Using backend LokyBackend with 2 concurrent workers.\n",
            "[Parallel(n_jobs=-1)]: Done   1 tasks      | elapsed: 17.8min\n",
            "[Parallel(n_jobs=-1)]: Done   4 out of   6 | elapsed: 124.9min remaining: 62.5min\n",
            "[Parallel(n_jobs=-1)]: Done   6 out of   6 | elapsed: 185.4min remaining:    0.0s\n",
            "[Parallel(n_jobs=-1)]: Done   6 out of   6 | elapsed: 185.4min finished\n"
          ],
          "name": "stderr"
        },
        {
          "output_type": "execute_result",
          "data": {
            "text/plain": [
              "GridSearchCV(cv=3, error_score=0,\n",
              "             estimator=Pipeline(memory=None,\n",
              "                                steps=[('preprocessor',\n",
              "                                        ColumnTransformer(n_jobs=None,\n",
              "                                                          remainder='drop',\n",
              "                                                          sparse_threshold=0.3,\n",
              "                                                          transformer_weights=None,\n",
              "                                                          transformers=[('vect',\n",
              "                                                                         Pipeline(memory=None,\n",
              "                                                                                  steps=[('vect',\n",
              "                                                                                          CountVectorizer(analyzer='word',\n",
              "                                                                                                          binary=False,\n",
              "                                                                                                          decode_error='strict',\n",
              "                                                                                                          dtype=<class 'numpy.int64'>,\n",
              "                                                                                                          encoding='utf-8',\n",
              "                                                                                                          in...\n",
              "                                                                                         random_state=None,\n",
              "                                                                                         shuffle=True,\n",
              "                                                                                         tol=0.001,\n",
              "                                                                                         validation_fraction=0.1,\n",
              "                                                                                         verbose=0,\n",
              "                                                                                         warm_start=False),\n",
              "                                                           n_jobs=None,\n",
              "                                                           passthrough=False,\n",
              "                                                           stack_method='auto',\n",
              "                                                           verbose=0))],\n",
              "                                verbose=False),\n",
              "             iid='deprecated', n_jobs=-1,\n",
              "             param_grid=[{'preprocessor__vect__vect__ngram_range': ((1, 1),\n",
              "                                                                    (1, 2))}],\n",
              "             pre_dispatch='2*n_jobs', refit=True, return_train_score=False,\n",
              "             scoring=None, verbose=10)"
            ]
          },
          "metadata": {
            "tags": []
          },
          "execution_count": 35
        }
      ]
    },
    {
      "cell_type": "code",
      "metadata": {
        "id": "dKIAbBDN9lbg",
        "colab_type": "code",
        "outputId": "c5d7b32b-c270-4ace-8220-7d210631989a",
        "colab": {
          "base_uri": "https://localhost:8080/",
          "height": 34
        }
      },
      "source": [
        "print(\"Best: %f using %s\" % (grid_st.best_score_, \n",
        "    grid_st.best_params_))"
      ],
      "execution_count": 36,
      "outputs": [
        {
          "output_type": "stream",
          "text": [
            "Best: 0.670043 using {'preprocessor__vect__vect__ngram_range': (1, 1)}\n"
          ],
          "name": "stdout"
        }
      ]
    },
    {
      "cell_type": "code",
      "metadata": {
        "id": "66_YdVHr9lbt",
        "colab_type": "code",
        "outputId": "f1a2d179-ee5e-4121-e5c6-d74d821ee7b8",
        "colab": {
          "base_uri": "https://localhost:8080/",
          "height": 663
        }
      },
      "source": [
        "pipe_stack.set_params(**grid_st.best_params_)\n",
        "pipe_stack.fit(X_train,y_train)\n"
      ],
      "execution_count": 37,
      "outputs": [
        {
          "output_type": "execute_result",
          "data": {
            "text/plain": [
              "Pipeline(memory=None,\n",
              "         steps=[('preprocessor',\n",
              "                 ColumnTransformer(n_jobs=None, remainder='drop',\n",
              "                                   sparse_threshold=0.3,\n",
              "                                   transformer_weights=None,\n",
              "                                   transformers=[('vect',\n",
              "                                                  Pipeline(memory=None,\n",
              "                                                           steps=[('vect',\n",
              "                                                                   CountVectorizer(analyzer='word',\n",
              "                                                                                   binary=False,\n",
              "                                                                                   decode_error='strict',\n",
              "                                                                                   dtype=<class 'numpy.int64'>,\n",
              "                                                                                   encoding='utf-8',\n",
              "                                                                                   input='content',\n",
              "                                                                                   lowercase=True,\n",
              "                                                                                   max_df=1.0,\n",
              "                                                                                   ma...\n",
              "                                                                  early_stopping=False,\n",
              "                                                                  epsilon=0.1,\n",
              "                                                                  eta0=0.0,\n",
              "                                                                  fit_intercept=True,\n",
              "                                                                  l1_ratio=0.15,\n",
              "                                                                  learning_rate='optimal',\n",
              "                                                                  loss='hinge',\n",
              "                                                                  max_iter=500,\n",
              "                                                                  n_iter_no_change=5,\n",
              "                                                                  n_jobs=None,\n",
              "                                                                  penalty='l2',\n",
              "                                                                  power_t=0.5,\n",
              "                                                                  random_state=None,\n",
              "                                                                  shuffle=True,\n",
              "                                                                  tol=0.001,\n",
              "                                                                  validation_fraction=0.1,\n",
              "                                                                  verbose=0,\n",
              "                                                                  warm_start=False),\n",
              "                                    n_jobs=None, passthrough=False,\n",
              "                                    stack_method='auto', verbose=0))],\n",
              "         verbose=False)"
            ]
          },
          "metadata": {
            "tags": []
          },
          "execution_count": 37
        }
      ]
    },
    {
      "cell_type": "code",
      "metadata": {
        "id": "UL8iDdXz9lbw",
        "colab_type": "code",
        "colab": {}
      },
      "source": [
        "y_preds = pipe_stack.predict(X_test)"
      ],
      "execution_count": 0,
      "outputs": []
    },
    {
      "cell_type": "code",
      "metadata": {
        "id": "cp2eKnfD9lb5",
        "colab_type": "code",
        "outputId": "a4a9badc-a828-4bcc-95fb-c28557b06696",
        "colab": {
          "base_uri": "https://localhost:8080/",
          "height": 34
        }
      },
      "source": [
        "print('Accuracy score on test set %.3f' % accuracy_score(y_test, y_preds))"
      ],
      "execution_count": 39,
      "outputs": [
        {
          "output_type": "stream",
          "text": [
            "Accuracy score on test set 0.675\n"
          ],
          "name": "stdout"
        }
      ]
    },
    {
      "cell_type": "markdown",
      "metadata": {
        "id": "mZdRdB-lGcww",
        "colab_type": "text"
      },
      "source": [
        "The stacking model is almost the same as the baseline model."
      ]
    },
    {
      "cell_type": "code",
      "metadata": {
        "id": "EtA1yrXJGkir",
        "colab_type": "code",
        "colab": {}
      },
      "source": [
        ""
      ],
      "execution_count": 0,
      "outputs": []
    }
  ]
}